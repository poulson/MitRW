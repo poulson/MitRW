{
 "cells": [
  {
   "cell_type": "markdown",
   "metadata": {},
   "source": [
    "## Mathematics in the Real World\n",
    "### Solutions for Homework 2\n",
    "#### Prof. Jack Poulson; May 1, 2015"
   ]
  },
  {
   "cell_type": "markdown",
   "metadata": {},
   "source": [
    "#### Problem 1\n",
    "\n",
    "**One step:**\n",
    "The two possible endpoints are:\n",
    "\n",
    "* -1, which can occur $\\binom{1}{1}=1$ way, with probability $\\frac{1}{2}$ for this event\n",
    "* +1, which can occur $\\binom{1}{0}=1$ way, with probability $\\frac{1}{2}$ for this event\n",
    "\n",
    "The expectation is\n",
    "\n",
    "$$ E[W_1] = \\frac{1}{2}*(-1) + \\frac{1}{2}*(+1) = 0, $$\n",
    "\n",
    "and the variance is\n",
    "\n",
    "$$ \\text{Var}[W_1] = E[(W_1-E[W_1])^2] = \\frac{1}{2}*(-1-0)^2 + \\frac{1}{2}*(+1-0)^2 = 1. $$\n",
    "\n",
    "**Two steps:**\n",
    "The three possible endpoints arise from the different number of total forward/backward steps:\n",
    "\n",
    "* 2 total backward steps ends at -2, which can happen $\\binom{2}{2}=1$ way, and this path has probability $(\\frac{1}{2})^2=\\frac{1}{4}$, and so the walk ends at $-2$ with probability \n",
    "  $$ P[W_1=-2] = \\binom{2}{2} \\left(\\frac{1}{2}\\right)^2 = \\frac{1}{4}. $$\n",
    "* 1 total backward step implies an endpoint of 0, which can happen $\\binom{2}{1}=2$ ways, with probability $(\\frac{1}{2})^2=\\frac{1}{4}$ for each of these two paths, implying a total probability of\n",
    "  $$ P[W_1=0] = \\binom{2}{1} \\left(\\frac{1}{2}\\right)^2 = \\frac{1}{2}. $$\n",
    "* 0 total backward steps implies an endpoint of 2, which can happen $\\binom{2}{0}=1$ way, and this path has probability $(\\frac{1}{2})^2$, and so the probability of ending at $2$ is\n",
    "  $$ P[W_1=2] = \\binom{2}{0} \\left(\\frac{1}{2}\\right)^2 = \\frac{1}{4}. $$\n",
    "  \n",
    "The expected location after two steps is thus\n",
    "\n",
    "$$ E[W_2] = \\frac{1}{4}*(-2) + \\frac{1}{2}*(0) + \\frac{1}{4}*(2) = 0, $$\n",
    "\n",
    "and the variance is\n",
    "\n",
    "$$ \\text{Var}[W_2] = E[(W_2-E[W-2])^2] = \\frac{1}{4}*(-2-0)^2 + \\frac{1}{2}*(0-0)^2 + \\frac{1}{4}*(2-0)^2 = 2. $$\n",
    "\n",
    "**Three steps:**\n",
    "The four possible endpoints arise from the different number of total forward/backward steps:\n",
    "\n",
    "* 3 total backward steps ends at -3, which can happen $\\binom{3}{3}=1$ way, and this path has a probability $(\\frac{1}{2})^3=\\frac{1}{8}$, and so the walk ends at $-3$ with probability\n",
    "  $$ P[W_3=-3] = \\binom{3}{3} \\left(\\frac{1}{2}\\right)^3 = \\frac{1}{8}. $$\n",
    "* 2 total backward steps ends at -1, which can happen $\\binom{3}{2}=3$ ways, with each path having a probability of $(\\frac{1}{2})^3=\\frac{1}{8}$, and so the walk ends at $-1$ with probability\n",
    "  $$ P[W_3=-1] = \\binom{3}{2} \\left(\\frac{1}{2}\\right)^3 = \\frac{3}{8}. $$\n",
    "* 1 total backward step implies an endpoint of 1, which can happen $\\binom{3}{1}=3$ ways, with each path having a probability of $(\\frac{1}{2})^3=\\frac{1}{8}$, and so the walk ends at $1$ with probability\n",
    "  $$ P[W_3=1] = \\binom{3}{1} \\left(\\frac{1}{2}\\right)^3 = \\frac{3}{8}. $$\n",
    "* 0 backward steps implies an endpoint of 3, which can happen $\\binom{3}{0}=1$ way, with this path having probability $(\\frac{1}{2})^3=\\frac{1}{8}$, so that the probability of ending at $3$ is\n",
    "  $$ P[W_3=3] = \\binom{3}{0} \\left(\\frac{1}{2}\\right)^3 = \\frac{1}{8}. $$\n",
    "  \n",
    "The expected final location is thus\n",
    "\n",
    "$$ E[W_3] = \\frac{1}{8}*(-3) + \\frac{3}{8}*(-1) + \\frac{3}{8}*(+1) + \\frac{1}{8}*(+3) = 0, $$\n",
    "\n",
    "and the variance is \n",
    "\n",
    "$$ \\text{Var}[W_3] = E[(W_3-E[W_3])^2] = \\frac{1}{8}*(-3-0)^2 + \\frac{3}{8}*(-1-0)^2 + \\frac{3}{8}*(1-0)^2 + \\frac{1}{8}*(3-0)^2 = \\frac{9}{8} + \\frac{3}{8} + \\frac{3}{8} + \\frac{9}{8} = \\frac{24}{8} = 3. $$\n",
    "\n",
    "**Four steps:**\n",
    "The five possible endpoints arise from the different number of total forward/backward steps:\n",
    "\n",
    "* 4 total backward steps ends at -4, which can happen $\\binom{4}{4}=1$ way, and this path has probability $(\\frac{1}{2})^4=\\frac{1}{16}$, and so the walk ends at $-4$ with probability \n",
    "  $$ P[W_4=-4] = \\binom{4}{4} \\left(\\frac{1}{2}\\right)^4 = \\frac{1}{16}. $$\n",
    "* 3 total backward steps ends at -2, which can happen $\\binom{4}{3}=4$ ways, with each path having probability $(\\frac{1}{2})^4=\\frac{1}{16}$, and so the walk ends at $-2$ with probability\n",
    "  $$ P[W_4=-2] = \\binom{4}{3} \\left(\\frac{1}{2}\\right)^4 = \\frac{4}{16} = \\frac{1}{4}. $$\n",
    "* 2 total backward steps ends at 0, which can happen $\\binom{4}{2}=6$ ways, with each path having probability $(\\frac{1}{2})^4=\\frac{1}{16}$, and so the walk ends at $0$ with probability\n",
    "  $$ P[W_4=0] = \\binom{4}{2} \\left(\\frac{1}{2}\\right)^4 = \\frac{6}{16}. $$\n",
    "* 1 total backward step ends at 2, which can happen $\\binom{4}{1}=4$ ways, with each path having probablity $(\\frac{1}{2})^4=\\frac{1}{16}$, so that the walk ends at $2$ with probability\n",
    "  $$ P[W_4=2] = \\binom{4}{1} \\left(\\frac{1}{2}\\right)^4 = \\frac{4}{16} = \\frac{1}{4}. $$\n",
    "* 0 total backward steps ends at 4, which can happen $\\binom{4}{0}=1$ way, with probability $(\\frac{1}{2})^4=\\frac{1}{16}$, so that\n",
    "  $$ P[W_4=4] = \\binom{4}{0} \\left(\\frac{1}{2}\\right)^4 = \\frac{1}{16}. $$\n",
    "  \n",
    "The expectated final location is thus\n",
    "  $$ E[W_4] = \\frac{1}{16}*(-4) + \\frac{4}{16}*(-2) + \\frac{6}{16}*(0) + \\frac{4}{16}*(2) + \\frac{1}{16}*(4) = 0, $$\n",
    "while the variance is\n",
    "  $$ \\text{Var}[W_4] = E[(W_4-E[W_4])^2] = \\frac{1}{16}*(-4-0)^2 + \\frac{4}{16}*(-2-0)^2 + \\frac{6}{16}*(0-0)^2 + \\frac{4}{16}*(2-0)^2 + \\frac{1}{16}*(4-0)^2 = 4. $$\n"
   ]
  },
  {
   "cell_type": "markdown",
   "metadata": {},
   "source": [
    "#### Problem 2\n",
    "Reusing the probabilities from Problem 1,\n",
    "\n",
    "$$ \\text{MAD}[W_1] = E[|W_1-E[W_1]|] = \\frac{1}{2}*|-1-0| + \\frac{1}{2}*|+1-0| = 1. $$\n",
    "$$ \\text{MAD}[W_2] = E[|W_2-E[W_2]|] = \\frac{1}{4}*|-2-0| + \\frac{1}{2}*|0-0| + \\frac{1}{4}*|2-0| = 1. $$\n",
    "$$ \\text{MAD}[W_3] = E[|W_3-E[W_3]|] = \\frac{1}{8}*|-3-0| + \\frac{3}{8}*|-1-0| + \\frac{3}{8}*|1-0| + \\frac{1}{8}*|3-0| = 1.5. $$\n",
    "$$ \\text{MAD}[W_4] = E[|W_4-E[W_4]|] = \\frac{1}{16}*|-4-0| + \\frac{4}{16}*|-2-0| + \\frac{6}{16}*|0-0| + \\frac{4}{16}*|2-0| + \\frac{1}{16}*|4-0| = 1.5. $$"
   ]
  },
  {
   "cell_type": "markdown",
   "metadata": {},
   "source": [
    "#### Bonus problem\n",
    "My solutions for Problems 1 and 2 made use of the choose function to compute the number of different ways that, out of a given number of random steps, a certain number of forward/backward steps could occur. For instance, if 4 of 6 steps were backward, then this could occur $\\binom{6}{4}=15$ different ways. This number of different occurences was then multiplied by the probability of each occurence to get the total probability that the walk could take a particular number of forward/backward steps (which implies the final location)."
   ]
  },
  {
   "cell_type": "markdown",
   "metadata": {},
   "source": [
    "#### Problem 3\n",
    "For the first problem, the median will be zero, the lower quartile -4, and the upper quartile +4, implying an IQR of 8, and upper and lower bounds for the whiskers of -16 and 16 (but , since there are no datapoints between 5 and 16 or -5 and -16, the whiskers end at 5 and -5."
   ]
  },
  {
   "cell_type": "code",
   "execution_count": 1,
   "metadata": {
    "collapsed": false
   },
   "outputs": [
    {
     "data": {
      "image/png": "[encoded data removed]",
      "text/plain": [
       "<matplotlib.figure.Figure at 0x7fb43c650f90>"
      ]
     },
     "metadata": {},
     "output_type": "display_data"
    }
   ],
   "source": [
    "%matplotlib inline\n",
    "import matplotlib.pyplot as plt\n",
    "\n",
    "x = [-50,-40,-30,-5,-4,-3,-2,-1,0,1,2,3,4,5,30,40,50]\n",
    "\n",
    "fig = plt.figure()\n",
    "plt.boxplot(x, \n",
    "            notch=False, # box instead of notch shape \n",
    "            sym='rs',    # red squares for outliers\n",
    "            vert=True)   # vertical box aligmnent\n",
    "t = plt.title('Box plot')\n",
    "plt.show()\n"
   ]
  },
  {
   "cell_type": "markdown",
   "metadata": {},
   "source": [
    "Likewise, for the second problem, the lower quartile is 1.5, the median is 4, and the upper quartile is 35. The fact that no datapoints are between 0 and the lower quartile minus 1.5 IQR's implies that the lower whisker ends at 0."
   ]
  },
  {
   "cell_type": "code",
   "execution_count": 2,
   "metadata": {
    "collapsed": false
   },
   "outputs": [
    {
     "data": {
      "image/png": "[encoded data removed]",
      "text/plain": [
       "<matplotlib.figure.Figure at 0x7fb43c649410>"
      ]
     },
     "metadata": {},
     "output_type": "display_data"
    }
   ],
   "source": [
    "x = [-50,0,1,2,3,4,5,30,40,50,100]\n",
    "\n",
    "fig = plt.figure()\n",
    "plt.boxplot(x, \n",
    "            notch=False, # box instead of notch shape \n",
    "            sym='rs',    # red squares for outliers\n",
    "            vert=True)   # vertical box aligmnent\n",
    "t = plt.title('Box plot')\n",
    "plt.show()"
   ]
  },
  {
   "cell_type": "markdown",
   "metadata": {},
   "source": [
    "#### Problem 4\n",
    "The number of different ways to end at $-4$, $-2$, $0$, $2$, and $4$ remains the same as in Problem 1, but the likelihoods have changed. In particular, the likelihood of $k$ of the steps being backward becomes\n",
    "  $$ \\binom{4}{k} \\left(\\frac{1}{3}\\right)^k \\left(\\frac{2}{3}\\right)^{4-k} $$\n",
    "since there are $\\binom{4}{k}$ different ways that this can occur and each occurence involves $k$ backward steps and $4-k$ forward steps.\n",
    "\n",
    "The expectation can be computed as\n",
    "  $$ E[W_4] = \\frac{1}{81}*(-4) + \\frac{8}{81}*(-2) + \\frac{24}{81}*(0) + \\frac{32}{81}*(2) + \\frac{16}{81}*(4) = \\frac{4}{3}, $$\n",
    "while the variance is\n",
    "  $$ \\begin{eqnarray*}\\text{Var}[W_4] &=& E[(W_4-E[W_4])^2] \\\\\n",
    "     &=& \\frac{1}{81}*(-4-\\frac{4}{3})^2 + \\frac{8}{81}*(-2-\\frac{4}{3})^2 + \\frac{24}{81}*(0-\\frac{4}{3})^2 + \\frac{32}{81}*(2-\\frac{4}{3})^2 + \\frac{16}{81}*(4-\\frac{4}{3})^2 \\\\\n",
    "     &=& \\frac{16^2+8*10^2+24*4^2+32*2^2+16*8^2}{729} \\\\\n",
    "     &=& \\frac{2592}{729} \\approx 3.5556,\\end{eqnarray*} $$\n",
    "  \n",
    "and the Mean Absolute Deviation is \n",
    "  $$ \\begin{eqnarray*}\\text{MAD}[W_4] &=& E[|W_4-E[W_4]|] \\\\\n",
    "     &=& \\frac{1}{81}*|-4-\\frac{4}{3}| + \\frac{8}{81}*|-2-\\frac{4}{3}| + \\frac{24}{81}*|0-\\frac{4}{3}| + \\frac{32}{81}*|2-\\frac{4}{3}| + \\frac{16}{81}*|4-\\frac{4}{3}| \\\\\n",
    "     &=& \\frac{16+80+96+64+128}{243} \\approx 1.580247.\\end{eqnarray*} $$"
   ]
  },
  {
   "cell_type": "code",
   "execution_count": null,
   "metadata": {
    "collapsed": true
   },
   "outputs": [],
   "source": []
  }
 ],
 "metadata": {
  "kernelspec": {
   "display_name": "Python 2",
   "language": "python",
   "name": "python2"
  },
  "language_info": {
   "codemirror_mode": {
    "name": "ipython",
    "version": 2
   },
   "file_extension": ".py",
   "mimetype": "text/x-python",
   "name": "python",
   "nbconvert_exporter": "python",
   "pygments_lexer": "ipython2",
   "version": "2.7.9"
  }
 },
 "nbformat": 4,
 "nbformat_minor": 0
}
