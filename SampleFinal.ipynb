{
 "cells": [
  {
   "cell_type": "markdown",
   "metadata": {},
   "source": [
    "## Mathematics in the Real World\n",
    "### Sample Final\n",
    "#### Prof. Jack Poulson; May 27, 2015"
   ]
  },
  {
   "cell_type": "markdown",
   "metadata": {},
   "source": [
    "### Problem 1\n",
    "Consider the single-variable function\n",
    "$$ f(x) = x^3 + 3 x^2 + 1. $$\n",
    "1. Compute the derivative of $f$.\n",
    "2. List the two values of $x$ where the derivative is zero.\n",
    "3. Describe whether each of these points is a local minimum or maximum (plotting the function may help).\n",
    "\n",
    "### Problem 2\n",
    "A business isn't doing so well. It lost \\$1M its first year, \\$3M its second year, gained \\$.5M its third year, and then lost \\$4M its fourth year. What are the coefficients of the best linear fit (in the two norm) of the profit (or lack thereof) of the company? (Work as far as you can by hand.)\n",
    "\n",
    "### Problem 3\n",
    "Suppose that you are bored and decide that you are going to perform a random walk where each movement is decided by two coin flips: the first coin flip determines whether or not you will walk forward or backward, and the second coin flip determines whether you take one step or two. \n",
    "1. Assuming that both coins are fair, compute the expectation and standard deviation of your location after two such movements (four total coin flips).\n",
    "2. Assuming that the first coin is biased so that you are twice as likely to go forward as backwards, but the second coin is fair, recompute the expectation and standard deviation.\n",
    "\n",
    "### Problem 4\n",
    "What are the odds of 15 steps of a random walk which is four times as likely to go forward at each step to end at $+5$?"
   ]
  }
 ],
 "metadata": {
  "kernelspec": {
   "display_name": "Python 2",
   "language": "python",
   "name": "python2"
  },
  "language_info": {
   "codemirror_mode": {
    "name": "ipython",
    "version": 2
   },
   "file_extension": ".py",
   "mimetype": "text/x-python",
   "name": "python",
   "nbconvert_exporter": "python",
   "pygments_lexer": "ipython2",
   "version": "2.7.9"
  }
 },
 "nbformat": 4,
 "nbformat_minor": 0
}
