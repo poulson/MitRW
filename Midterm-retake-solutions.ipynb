{
 "metadata": {
  "name": "",
  "signature": "sha256:578537b385f5da8abcc30c554ed40a7f641b6424a04c9739d8d8646d8f038cce"
 },
 "nbformat": 3,
 "nbformat_minor": 0,
 "worksheets": [
  {
   "cells": [
    {
     "cell_type": "markdown",
     "metadata": {},
     "source": [
      "## Mathematics in the Real World\n",
      "### Midterm retake solutions\n",
      "#### Prof. Jack Poulson; May 6, 2015"
     ]
    },
    {
     "cell_type": "markdown",
     "metadata": {},
     "source": [
      "#### Problem 1\n",
      "Given the dataset \n",
      "  $$ 10.5, 11.5, 2, -10, -20, 11, 12, 27, 30, $$\n",
      "  \n",
      "(a) **[25 pts]** Draw and label a box and whisker plot for the dataset.\n",
      "\n",
      "(b) **[10 pts]** Compute the best estimates of the dataset with respect to the two-norm and max-norm."
     ]
    },
    {
     "cell_type": "markdown",
     "metadata": {},
     "source": [
      "After sorting the dataset from smallest to largest, we would find\n",
      "  $$ -20, -10, 2, 10.5, 11, 11.5, 12, 27, 30, $$\n",
      "which has median $11$, Lower Quartile $2$, Upper Quartile $12$, and therefore Interquartile Range $12-2=10$. Thus, any datapoints above $\\text{UQ}+1.5*\\text{IQR}=27$ or below $\\text{LQ}-1.5*\\text{IQR}=-13$ are considered outliars (i.e., 30 and -20). The whiskers respectively end at the largest datapoint (incluseively) between 12 and 27, which is 27, and the smallest datapoint between -13 and 2, which is -10. \n",
      "\n",
      "Alternatively, we can simply ask Python to draw the box plot for us:"
     ]
    },
    {
     "cell_type": "code",
     "collapsed": false,
     "input": [
      "%matplotlib inline\n",
      "import matplotlib.pyplot as plt\n",
      "\n",
      "x = [10.5,11.5,2,-10,-20,11,12,27,30]\n",
      "\n",
      "fig = plt.figure()\n",
      "plt.boxplot(x, \n",
      "            notch=False, # box instead of notch shape \n",
      "            sym='rs',    # red squares for outliers\n",
      "            vert=True)   # vertical box aligmnent\n",
      "t = plt.title('Box plot')\n",
      "plt.show()"
     ],
     "language": "python",
     "metadata": {},
     "outputs": [
      {
       "metadata": {},
       "output_type": "display_data",
       "png": "[encoded data removed]",
       "text": [
        "<matplotlib.figure.Figure at 0x7f49a810ddd0>"
       ]
      }
     ],
     "prompt_number": 1
    },
    {
     "cell_type": "markdown",
     "metadata": {},
     "source": [
      "The best two-norm estimate is the mean, which is\n",
      "  $$ \\frac{10+5+11.5+2-10-20+11+12+27+30}{9} \\approx 8.222, $$\n",
      "while the best max-norm estimate is\n",
      "  $$ \\frac{-20+30}{2} = 5. $$"
     ]
    },
    {
     "cell_type": "markdown",
     "metadata": {},
     "source": [
      "#### Problem 2\n",
      "Consider a fair random walk:\n",
      "\n",
      "(a) **[10 pts]** Write down the expected change in squared distance from zero if the walk is currently at position $k$ and takes one more step.\n",
      "\n",
      "(b) **[10 pts]** Write down the expected change in (absolute) distance from zero if the walk is currently at position $k \\neq 0$ and takes one more random step, and compute the expected change from taking a step at $k=0$.\n",
      "\n",
      "(c) **[10 pts]** Describe the behaviour (as precisely as possible) of the Variance and Mean Absolute Deviation of the random walk as the number of steps increases."
     ]
    },
    {
     "cell_type": "markdown",
     "metadata": {},
     "source": [
      "For part (a), the question is to compute\n",
      "  $$ E[(k+W_1)^2] - k^2, $$\n",
      "where $W_1$ is one step of a random walk. We can easily evaluate this as\n",
      "  $$ \\left(\\frac{1}{2}(k+1)^2 + \\frac{1}{2}(k-1)^2\\right) - k^2 = \\frac{1}{2}\\left( (k^2 + 2k + 1) + (k^2 - 2k + 1)\\right) - k^2 = \\frac{1}{2}\\left( 2k^2 + 2 \\right) - k^2 = 1.$$\n",
      "  \n",
      "For part (b), we seek to separately compute\n",
      "  $$ E[|k+W_1|] - |k| $$\n",
      "with $k \\neq 0$ and $k = 0$. When $k \\geq 1$, we find that, since $k-1$, $k$, and $k+1$ are all at least zero, that\n",
      "  $$ \\left(\\frac{1}{2} | k+1 | + \\frac{1}{2} | k - 1 | \\right) - |k| = \\left( \\frac{1}{2} (k+1) + \\frac{1}{2} (k-1) \\right) - k = 0, $$\n",
      "wherease, if $k \\leq 1$, we find that $k-1$, $k$, and $k+1$ are all at most zero, so that\n",
      "  $$ \\left(\\frac{1}{2} | k+1 | + \\frac{1}{2} | k - 1 | \\right) - |k| = \\left( -\\frac{1}{2} (k+1) - \\frac{1}{2} (k-1) \\right) + k = 0. $$\n",
      "Thus, as long as $k \\neq 0$, we have that the expected change in the absolute distance from zero is zero. But, if $k=0$, then we will have that $k+1$ is positive while $k-1$ is negative, and thus\n",
      "  $$ \\left(\\frac{1}{2} |k+1| + \\frac{1}{2} |k-1| \\right) - |k| = \\left( \\frac{1}{2} 1 + \\frac{1}{2} 1 \\right) - 0 = 1. $$\n",
      "  \n",
      "For part (c), part (a) allows us to conclude that every step of the random walk must increase the variance by $1$ since, regardless of where each walk is, its next step will, on average, increase the squared distance from zero by one (and the variance is nothing but the average squared distance from zero). Likewise, part (b) allows us to recognize that the Mean Absolute Deviation from step $n$ to step $n+1$ can be expressed as\n",
      "  $$ \\text{MAD}[W_{n+1}] = \\text{MAD}[W_n] + P[W_n=0]*1, $$\n",
      "since each walk that is at zero after $n$ steps will lead to an average increase of one in its absolute distance from zero after one more step. Since it is not possible for an odd number of steps to have ended at zero, we have that the probability that $n$ steps of the random walk ends at zero, $P[W_n=0]$, is zero. But, for even numbers of steps, there are $2^n$ total unique paths, and $\\binom{n}{n/2}$ of them will end at zero, and so the $P[W_n=0]=\\binom{n}{n/2} 2^{-n}$ when $n$ is even."
     ]
    },
    {
     "cell_type": "markdown",
     "metadata": {},
     "source": [
      "#### Problem 3\n",
      "Consider a random walk where the first step is twice as likely to be forward as backward, but subsequent steps prefer to go in the **same** direction as the preceding step by a factor of two. For example, if the first step was forward, the odds of the next step being forward are $2/3$. But, if the first step was forward and the second step was backward, then the odds of the third step being backward are $2/3$. If the random walk is allowed to continue for **three steps**:\n",
      "\n",
      "(a) **[5 pts]** List the possible final locations.\n",
      "\n",
      "(b) **[10 pts]** Compute the likelihoods of these locations.\n",
      "\n",
      "(c) **[5 pts]** Compute the expected location.\n",
      "\n",
      "(d) **[15 pts]** Compute the variance, standard deviation, and Mean Absolute Deviation."
     ]
    },
    {
     "cell_type": "markdown",
     "metadata": {},
     "source": [
      "The different possible random walks and their probabilities are:\n",
      "\n",
      "* FFF ends at 3 and has likelihood $(2/3)(2/3)(2/3)=8/27.$\n",
      "* FFB ends at 1 and has likelihood $(2/3)(2/3)(1/3)=4/27.$\n",
      "* FBF ends at 1 and has likelihood $(2/3)(1/3)(1/3)=2/27.$\n",
      "* FBB ends at -1 and has likelihood $(2/3)(1/3)(2/3)=4/27.$\n",
      "* BFF ends at 1 and has likelihood $(1/3)(1/3)(2/3)=2/27.$\n",
      "* BFB ends at -1 and has likelihood $(1/3)(1/3)(1/3)=1/27.$\n",
      "* BBF ends at -1 and has likelihood $(1/3)(2/3)(1/3)=2/27.$\n",
      "* BBB ends at -3 and has likelihood $(1/3)(2/3)(2/3)=4/27.$\n",
      "\n",
      "Thus, the answer to (a) is the set of locations $(-3,-1,1,3)$, and their likelihoods, for part (b), are respectively\n",
      "\n",
      "* 3 has likelihood $8/27$,\n",
      "* 1 has likelihood $4/27 + 2/27 + 2/27 = 8/27$,\n",
      "* -1 has likelihood $4/27 + 1/27 + 2/27 = 7/27$, and\n",
      "* -3 has likelihood $4/27$.\n",
      "\n",
      "For part (c), the expected final location is then\n",
      "  $$ E[W_3] = \\frac{8}{27}*(3) + \\frac{8}{27}*(1) + \\frac{7}{27}*(-1) + \\frac{4}{27}*(-3) = \\frac{13}{27}. $$\n",
      "For part (d), the variance is then\n",
      "  $$ \\text{Var}[W_3] = E[(W_3-E[W_3])^2] = E[(W_3-\\frac{13}{27})^2] = \\frac{8}{27}*(3-\\frac{13}{27})^2 + \\frac{8}{27}*(1-\\frac{13}{27})^2 + \\frac{7}{27}*(-1-\\frac{13}{27})^2 + \\frac{4}{27}*(-3-\\frac{13}{27})^2 \\approx 4.324, $$\n",
      "and the standard deviation is the square-root of the variance, roughly $2.079$.\n",
      "Likewise, the Mean Absolute Deviation is\n",
      "  $$ \\text{MAD}[W_3] = E[|W_3 - E[W_3]|] = E[|W_3 - \\frac{13}{27}|] = \\frac{8}{27}*|3-\\frac{13}{27}| + \\frac{8}{27}*|1-\\frac{13}{27}| + \\frac{7}{27}*|-1-\\frac{13}{27}| + \\frac{4}{27}*|-3-\\frac{13}{27}| \\approx 1.8. $$"
     ]
    }
   ],
   "metadata": {}
  }
 ]
}