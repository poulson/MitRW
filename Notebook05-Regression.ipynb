{
 "cells": [
  {
   "cell_type": "markdown",
   "metadata": {},
   "source": [
    "## Mathematics in the Real World\n",
    "### Regression\n",
    "#### Prof. Jack Poulson; May 11, 2015"
   ]
  },
  {
   "cell_type": "markdown",
   "metadata": {},
   "source": [
    "<img src=\"files/images/regression.png\" />"
   ]
  },
  {
   "cell_type": "markdown",
   "metadata": {},
   "source": [
    "## Regression\n",
    "While we have previously discussed how to approximate a dataset with a single point (e.g., the *median*, *mean*, or *mode*), performing a more sophisticated approximation, such as fitting a line or quadratic to the data, requires that we increase our level of mathematical sophistication substantially. In particular, we will need an elementary understanding of **linear algebra**, which is the area of study focused on linear transformations of vectors.\n",
    "\n",
    "### Linear transformations\n",
    "Before we can describe what is meant by a linear transformation, it is useful for us to first describe the notation used for basic manipulations of vectors, such as scaling every entry by the same value, and adding two vectors together.\n",
    "\n",
    "#### Scaling vectors\n",
    "Perhaps the most basic operation that we can perform on a vector is to rescale it, such as by multiplying every entry by two. In this case, we might say that we multiplied the vector by the *scalar* two. More generally, for any number $\\lambda$, we might denote scaling a vector $x$ by $\\lambda$ as\n",
    "   $$ \\lambda x = \\lambda \\begin{bmatrix} x_1 \\\\ x_2 \\\\ \\vdots \\\\ x_n \\end{bmatrix} = \\begin{bmatrix} \\lambda x_1 \\\\ \\lambda x_2 \\\\ \\vdots \\\\ \\lambda x_n \\end{bmatrix}. $$\n",
    "   \n",
    "For example, \n",
    "  $$ 5 \\begin{bmatrix} 2 \\\\ 4 \\\\ 6 \\\\ 8 \\end{bmatrix} = \\begin{bmatrix} 10 \\\\ 20 \\\\ 30 \\\\ 40 \\end{bmatrix}. $$\n",
    "   \n",
    "#### Adding vectors\n",
    "An even more natural operation, which you would likely have seen in a high-school physics class, is the *addition* of two vectors:\n",
    "$$ x + y = \\begin{bmatrix} x_1 \\\\ x_2 \\\\ \\vdots \\\\ x_n \\end{bmatrix} + \\begin{bmatrix} y_1 \\\\ y_2 \\\\ \\vdots \\\\ y_n \\end{bmatrix} = \\begin{bmatrix} x_1 + y_1 \\\\ x_2 + y_2 \\\\ \\vdots \\\\ x_n + y_n \\end{bmatrix}. $$\n",
    "For example, \n",
    "  $$ \\begin{bmatrix} 1 \\\\ 2 \\\\ 3 \\\\ 4 \\end{bmatrix} + \\begin{bmatrix} 2 \\\\ 4 \\\\ 6 \\\\ 8 \\end{bmatrix} = \\begin{bmatrix} 3 \\\\ 6 \\\\ 9 \\\\ 12 \\end{bmatrix}. $$\n",
    "   \n",
    "#### Definition of a linear function\n",
    "Now that we have defined how to scale and add vectors, we are ready to list the two requirements that a transformation $f$, which takes in a vector as an input and gives back another vector as an output, must meet in order for it to be called **linear**:\n",
    "\n",
    "1. For any *scalar* $\\lambda$ and input vector $x$, scaling the input and then applying the transformation is the same as applying the transformation and then scaling the output:\n",
    "     $$ f(\\lambda x) = \\lambda f(x),\\text{ and}$$\n",
    "2. For any two input vectors $x$ and $y$, transforming their sum is the same as summing their transforms:\n",
    "   $$ f(x+y) = f(x) + f(y). $$\n",
    "\n",
    "For example, suppose a function $f$ transforms each entry in a vector of length two into another vector of length two, but with each entry squared:\n",
    "$$ f(x) = f\\left(\\begin{bmatrix}x_1 \\\\ x_2 \\end{bmatrix}\\right) = \\begin{bmatrix} x_1^2 \\\\ x_2^2 \\end{bmatrix}. $$\n",
    "Then, picking a real number $\\lambda$, we would see that\n",
    "  $$ f(\\lambda x) = f\\left(\\begin{bmatrix} \\lambda x_1 \\\\ \\lambda x_2 \\end{bmatrix}\\right) = \\begin{bmatrix} \\lambda^2 x_1^2 \\\\ \\lambda^2 x_2^2 \\end{bmatrix} = \\lambda^2 f(x), $$\n",
    "which therefore does not satisfy property (1) that $f(\\lambda x) = \\lambda f(x)$.\n",
    "\n",
    "On the other hand, consider the function $f$ such that \n",
    "  $$ f(x) = f\\left(\\begin{bmatrix} x_1 \\\\ x_2 \\end{bmatrix}\\right) = \\begin{bmatrix} 2 x_1 + 3 x_2 \\\\ 4 x_1 + 5 x_2 \\end{bmatrix}. $$\n",
    "We can then easily see that $f$ satisfies both property (1) and property (2) for linearity by computing\n",
    "  $$ f(\\lambda x) = f\\left(\\begin{bmatrix} \\lambda x_1 \\\\ \\lambda x_2 \\end{bmatrix}\\right) = \\begin{bmatrix} 2 (\\lambda x_1) + 3 (\\lambda x_2) \\\\ 4 (\\lambda x_1) + 5 (\\lambda x_2) \\end{bmatrix} = \\lambda \\begin{bmatrix} 2 x_1 + 3 x_2 \\\\ 4 x_1 + 5 x_2 \\end{bmatrix} = \\lambda f(x), $$\n",
    "which shows property (1), and\n",
    "  $$ f(x + y) = f\\left(\\begin{bmatrix} x_1 + y_1 \\\\ x_2 + y_2 \\end{bmatrix}\\right) = \\begin{bmatrix} 2 (x_1 + y_1) + 3 (x_2 + y_2) \\\\ 4 (x_1 + y_1) + 5 (x_2 + y_2) \\end{bmatrix} = \\begin{bmatrix} 2 x_1 + 3 x_2 \\\\ 4 x_1 + 5 x_2 \\end{bmatrix} + \\begin{bmatrix} 2 y_1 + 3 y_2 \\\\ 4 y_1 + 5 y_2 \\end{bmatrix} = f(x) + f(y), $$\n",
    "which shows property (2).\n",
    "\n",
    "#### Representing linear transformations using matrices\n",
    "It is in fact the case that **all** linear transformations of vectors take forms which are very similar to that from our last example. In particular, each entry of the output of $f(x)$ must be a weighted sum of the entries of the input. For this reason, it is common to re-express linear transformations of vectors using a table known as a **matrix**. We thus might rewrite the function that we just found to be linear,\n",
    "  $$ f\\left(\\begin{bmatrix} x_1 \\\\ x_2 \\end{bmatrix}\\right) = \\begin{bmatrix} 2 x_1 + 3 x_2 \\\\ 4 x_1 + 5 x_2 \\end{bmatrix}, $$\n",
    "using the **matrix notation**\n",
    "  $$ f\\left(\\begin{bmatrix} x_1 \\\\ x_2 \\end{bmatrix}\\right) = \\begin{pmatrix} 2 & 3 \\\\ 4 & 5 \\end{pmatrix} \\begin{bmatrix} x_1 \\\\ x_2 \\end{bmatrix}, $$\n",
    "where we have represented the linear transformation $f$ as a matrix, say $F = \\begin{pmatrix} 2 & 3 \\\\ 4 & 5 \\end{pmatrix}$.\n",
    "  \n",
    "Notice that nothing about the concept of linearity required that the input vector be of the same size as the output vector, and so we could equally-well define the linear transformation\n",
    "  $$ f\\left(\\begin{bmatrix} x_1 \\\\ x_2 \\end{bmatrix}\\right) = \\begin{bmatrix} x_1 + x_2 \\\\ x_1 + 2 x_2 \\\\ x_1 + 3 x_2 \\\\ x_1 + 4 x_2 \\end{bmatrix} = \\begin{pmatrix} 1 & 1 \\\\ 1 & 2 \\\\ 1 & 3 \\\\ 1 & 4 \\end{pmatrix} \\begin{bmatrix} x_1 \\\\ x_2 \\end{bmatrix}. $$\n",
    "  \n",
    "Furthermore, we can formalize the rule for how to compute the $i$'th entry of the result of applying an $m \\times n$ matrix (that is, a matrix with $m$ rows and $n$ columns) via the rule\n",
    "  $$ \\left(A x\\right)_i = \\sum_{j=1}^n A(i,j) x(j), $$\n",
    "where $A(i,j)$ refers to the entry of $A$ occuring in the $i$'th row (counting from the top) and $j$'th column (counting rightward). We can then see that the formula specifies that the $i$'th entry of the result of $A x$ involves summing the $i$'th row of $A$ with the entire input vector, $x$.\n",
    "\n",
    "Lastly, we will later make use of the concept of a **transpose** of a matrix $A$, denoted as $A^T$, which has its entry in position $(i,j)$ equal to the entry in position $(j,i)$ of $A$,\n",
    "or\n",
    "  $$ A^T(i,j) = A(j,i). $$\n",
    "As an example, if\n",
    "  $$ A = \\begin{pmatrix} 4 & 5 & 6 \\\\ 7 & 8 & 9 \\end{pmatrix}, $$\n",
    "then the transpose of $A$ is\n",
    "  $$ A^T = \\begin{pmatrix} 4 & 7 \\\\ 5 & 8 \\\\ 6 & 9 \\end{pmatrix}. $$\n",
    "\n",
    "### Fitting a line\n",
    "Now suppose that our dataset is a set of measurements, say the temperature of a kettle of water over time, and we would like to determine the most accurate description of the temperature data as having a fixed starting temperature and a constant increase over time."
   ]
  },
  {
   "cell_type": "code",
   "execution_count": 26,
   "metadata": {
    "collapsed": false
   },
   "outputs": [
    {
     "data": {
      "text/plain": [
       "<matplotlib.text.Text at 0x10902df50>"
      ]
     },
     "execution_count": 26,
     "metadata": {},
     "output_type": "execute_result"
    },
    {
     "data": {
      "image/png": "[encoded data removed]",
      "text/plain": [
       "<matplotlib.figure.Figure at 0x107b6ccd0>"
      ]
     },
     "metadata": {},
     "output_type": "display_data"
    }
   ],
   "source": [
    "%matplotlib inline\n",
    "import numpy as np\n",
    "import matplotlib.pyplot as plt\n",
    "\n",
    "b = [67,85,103,114,118];\n",
    "t = [1,3,4,5,6];\n",
    "plt.plot(t,b,'rs')\n",
    "plt.xlim((0,7))\n",
    "plt.xlabel('Time (minutes)')\n",
    "plt.ylabel('Temperature (Farenheit)')\n",
    "plt.title('Measured temperature of a kettle over time')"
   ]
  },
  {
   "cell_type": "markdown",
   "metadata": {},
   "source": [
    "Perhaps the most common way to parameterize a line is as\n",
    "  $$ \\ell(t) = x_1 + x_2 t, $$\n",
    "where $x_1$ would typically be called the \"y-intercept\", and $x_2$ the \"slope\". A reasonable task would then be to pick values of $x_1$ and $x_2$ so that the predictions are approximately\n",
    "equal to the measured data, i.e.,\n",
    "  $$ \\begin{bmatrix} 67 \\\\ 85 \\\\ 103 \\\\ 114 \\\\ 118 \\end{bmatrix} \\approx \\begin{bmatrix} \\ell(1) \\\\ \\ell(3) \\\\ \\ell(4) \\\\ \\ell(5) \\\\ \\ell(6) \\end{bmatrix} = \\begin{bmatrix} x_1 + 1 x_2 \\\\ x_1 + 3 x_2 \\\\ x_1 + 4 x_2 \\\\ x_1 + 5 x_2 \\\\ x_1 + 6 x_2 \\end{bmatrix} = \\begin{pmatrix} 1 & 1 \\\\ 1 & 3 \\\\ 1 & 4 \\\\ 1 & 5 \\\\ 1 & 6 \\end{pmatrix} \\begin{bmatrix} x_1 \\\\ x_2 \\end{bmatrix}, $$\n",
    "since the measurement was $67$F after 1 minute, $85$F after 3 minutes, etc., and we can \n",
    "recognize that the predictions are in fact a linear transformation of the parameters describing the line. We might call the matrix mapping the line parameters to the predictions $A$, the vector of parameters $x$, and the vector of measurements $b$, so that we seek $x$ such that\n",
    "  $$ b \\approx A x. $$\n",
    "\n",
    "#### The \"normal equations\"\n",
    "This approximation is typically accomplished through finding the values of $x_1$ and $x_2$ which minimize the two-norm of the deviation between the predictions and the measurements, which is usually phrased as solving the minimization problem:\n",
    "  $$ \\min_x \\left\\| \\; b - A x \\; \\right\\|_2. $$\n",
    "While this equation may be intimidating, basic calculus allows one to realize that solving this minimization problem is, under modest assumptions, equivalent to solving the \"normal\" system of equations\n",
    "  $$ A^T A x = A^T b, $$\n",
    "where the left-hand side, $A^T A x$, is the result of applying the transformation $A^T$ to the vector $ A x $, while the right-hand side is simply the transformation of $b$ by the matrix $A^T$.\n",
    "\n",
    "Since we have already computed $A x$, we need only apply $A^T$ in order to form $A^T A x$:\n",
    "  $$ A^T A x = \\begin{pmatrix} 1 & 1 & 1 & 1 & 1 \\\\ 1 & 3 & 4 & 5 & 6\\end{pmatrix} \\begin{bmatrix} x_1 + 1 x_2 \\\\ x_1 + 3 x_2 \\\\ x_1 + 4 x_2 \\\\ x_1 + 5 x_2 \\\\ x_1 + 6 x_2 \\end{bmatrix} = \\begin{bmatrix} 5 x_1 + 19 x_2 \\\\ 19 x_1 + 87 x_2 \\end{bmatrix} = \\begin{pmatrix} 5 & 19 \\\\ 19 & 87 \\end{pmatrix} \\begin{bmatrix} x_1 \\\\ x_2 \\end{bmatrix}, $$\n",
    "which shows that applying $A$ followed by $A^T$ is the same as applying\n",
    "  $$ A^T A = \\begin{pmatrix} 5 & 19 \\\\ 19 & 87 \\end{pmatrix}. $$\n",
    "  \n",
    "Given that\n",
    "  $$ A^T b = \\begin{pmatrix} 1 & 1 & 1 & 1 & 1 \\\\ 1 & 3 & 4 & 5 & 6 \\end{pmatrix} \\begin{bmatrix} 67 \\\\ 85 \\\\ 103 \\\\ 114 \\\\ 118 \\end{bmatrix} = \\begin{bmatrix} 487 \\\\ 2012 \\end{bmatrix}, $$\n",
    "the \"normal equations\" for fitting a line to our dataset would involve solving for $x=(x_1,x_2)$ in the expression\n",
    "  $$ \\begin{pmatrix} 5 & 19 \\\\ 19 & 87 \\end{pmatrix} \\begin{bmatrix} x_1 \\\\ x_2 \\end{bmatrix} = \\begin{bmatrix} 487 \\\\ 2012 \\end{bmatrix}. $$\n",
    "Before we explain how to systematically solve such a **system of linear equations**, we will first show a faster means of computing $A^T A$, and, in general, **composing**/**multiplying** two matrices.\n",
    "\n",
    "#### Composing matrices\n",
    "While the above example for computing $A^T A$ is meant to be instructive, it is significantly more tedious than necessary due to the fact that we had to keep track of $x_1$ and $x_2$ terms despite the fact that the inputs, $A$ and $A^T$, and the output, $A^T A$, can all be expressed without the need for the $x_1$ and $x_2$ symbols. \n",
    "\n",
    "In order to discuss matrix composition, we can consider the more general case of being given an $m \\times k$ matrix $F$, an $k \\times n$ matrix $G$, and wanting to form an $m \\times n$ matrix $C$ which, for any input vector for $G$ (which must be of length $n$), satisfies\n",
    "  $$ C x = F G x. $$\n",
    "The general rule for forming the entry of $C$ in the $i$'th row and $j$'th column, is\n",
    "$$ C(i,j) = \\sum_{r=1}^k F(i,r), G(r,j), $$ \n",
    "which corresponds to the coefficient for the $x_j$ term in the $i$'th row of the result of $F G x$. It is easy to verify that this rule produces the same results as our previous explicit calculation of $A^T A x$ which carried around the individual $x_1$ and $x_2$ terms and then factored them out as a last step.\n",
    "\n",
    "#### Solving systems of equations via Gaussian Elimination\n",
    "In order to appreciate Gaussian Elimination, it is useful to first consider a system of equations in a special form referred to as **upper triangular**. For example, consider the system\n",
    "$$ \\begin{pmatrix} 1 & 2 & 3 \\\\ 0 & 4 & 5 \\\\ 0 & 0 & 6 \\end{pmatrix} \\begin{bmatrix} x_1 \\\\ x_2 \\\\ x_3 \\end{bmatrix} = \\begin{bmatrix} 7 \\\\ 8 \\\\ 9 \\end{bmatrix}, $$\n",
    "which involves a matrix whose coefficients are all zero below the **main diagonal**, $(1,4,6)$. Since the last row is the equation\n",
    "$$ 6 x_3 = 9, $$\n",
    "we can immediately determine that $x_3 = \\frac{3}{2}$. And, further, since the second equation is\n",
    "$$ 4 x_2 + 5 x_3 = 8, $$\n",
    "and we have already determined that $x_3 = \\frac{3}{2}$, we can deduce that \n",
    "$$ x_2 = \\frac{1}{8}.$$\n",
    "Likewise, because the first equation is\n",
    "$$ x_1 + 2 x_2 + 3 x_3 = 7, $$\n",
    "and we already know $x_2$ and $x_3$, we can solve for\n",
    "$$ x_1 = 7 - \\frac{1}{4} - \\frac{9}{2} = \\frac{9}{4}. $$\n",
    "This process of solving for the last variable in an upper-triangular system of equations and working backwards up to the first variable is referred to as **backwards substitution** and is one of the core tools used within linear algebra. (And, similarly, if the system of equations involved a matrix which had all of its coefficients zero **above** the main diagonal, it would be possible to immediately write down the solution for the first variable and work downwards to the last variable via **forward substitution**.)\n",
    "\n",
    "Clearly not all systems of equations involve matrices that are in upper-triangular form, and so the purpose of **Gaussian Elimination** is to manipulate the system of equations into upper-triangular form. So suppose that we have a system of equations\n",
    " $$ \\begin{pmatrix} 1 & 2 & 3 \\\\ 2 & 8 & 5 \\\\ 3 & 5 & 6 \\end{pmatrix} \\begin{bmatrix} x_1 \\\\ x_2 \\\\ x_3 \\end{bmatrix} = \\begin{bmatrix} 7 \\\\ 8 \\\\ 9 \\end{bmatrix}, $$\n",
    "and seek to manipulate it into upper-triangular form. Then our first task should be to eliminate the dependence of the second equation,\n",
    "$$ 2 x_1 + 8 x_2 + 5 x_3 = 8, $$\n",
    "on $x_1$. To do so, we could solve for $x_1$ in the first equation, giving us\n",
    "$$ x_1 = 7 - 2 x_2 - 3 x_3, $$\n",
    "and substitute this value of $x_1$ into the second equation to give\n",
    "$$ 2 (7 - 2 x_2 - 3 x_3) + 8 x_2 + 5 x_3 = 8, $$\n",
    "which simplifies to\n",
    "$$ 4 x_2 - x_3 = -6. $$\n",
    "If we then replace the second row of our system of equations with this new expression, we end up with\n",
    " $$ \\begin{pmatrix} 1 & 2 & 3 \\\\ 0 & 4 & -1 \\\\ 3 & 5 & 6 \\end{pmatrix} \\begin{bmatrix} x_1 \\\\ x_2 \\\\ x_3 \\end{bmatrix} = \\begin{bmatrix} 7 \\\\ -6 \\\\ 9 \\end{bmatrix}. $$\n",
    "This process of \"zeroing\" the first entry in the second row is actually equivalent to subtracting an appropriate multiple of the first equation into the second equation (in our case, we added the first equation multiplied by $-2$, which is the negative of the entry we would like to zero divided by the corresponding entry from the equation used to zero it). Likewise, to zero out the first coefficient in the third row, we can add the first equation multiplied by $-3$ onto the third equation to arrive at\n",
    " $$ \\begin{pmatrix} 1 & 2 & 3 \\\\ 0 & 4 & -1 \\\\ 0 & -1 & -3 \\end{pmatrix} \\begin{bmatrix} x_1 \\\\ x_2 \\\\ x_3 \\end{bmatrix} = \\begin{bmatrix} 7 \\\\ -6 \\\\ -12 \\end{bmatrix}. $$\n",
    "To finish reducing the system to upper-triangular form, all that is left is to zero out the second coefficient of the third equation, which we can accomplish via adding one-fourth of the second equation onto the third, i.e.,\n",
    " $$ \\begin{pmatrix} 1 & 2 & 3 \\\\ 0 & 4 & -1 \\\\ 0 & 0 & -3 \\frac{1}{4} \\end{pmatrix} \\begin{bmatrix} x_1 \\\\ x_2 \\\\ x_3 \\end{bmatrix} = \\begin{bmatrix} 7 \\\\ -6 \\\\ -13 \\frac{1}{2} \\end{bmatrix}. $$\n",
    "This process of reducing the system of equations to upper-triangular form is called **Gaussian Elimination**, and we can now find the solution via applying backwards substitution to find\n",
    "$$ x \\approx \\begin{bmatrix} -4.5385 \\\\ -0.4615 \\\\ 4.1539 \\end{bmatrix}. $$\n",
    "\n",
    "#### Putting it all together\n",
    "Given a matrix $A$ and a set of measurements $b$, we can now solve a set of normal equations, say\n",
    "$$ A^T A x = A^T b, $$\n",
    "via \n",
    "\n",
    "1. Forming $A^T A$,\n",
    "2. Forming $A^T b$, \n",
    "3. Applying Gaussian Elimination to the system of equations, and \n",
    "4. Performing backwards substitution to finally find $x$.\n",
    "\n",
    "Should we execute this sequence of steps for our example of fitting a line to our kettle temperature data, we would form the normal equations\n",
    "$$ \\begin{pmatrix} 5 & 19 \\\\ 19 & 87 \\end{pmatrix} \\begin{bmatrix} x_1 \\\\ x_2 \\end{bmatrix} = \\begin{bmatrix} 487 \\\\ 2012 \\end{bmatrix}, $$\n",
    "which has solution\n",
    "$$ \\begin{bmatrix} x_1 \\\\ x_2 \\end{bmatrix} \\approx \\begin{bmatrix} 55.959 \\\\ 10.905 \\end{bmatrix}, $$\n",
    "which would produce the prediction\n",
    "$$ \\ell(t) = 55.959 + 10.905 t, $$\n",
    "which implies an initial temperature of $55.959$F and a rate of temperature increase of just under 11 degrees per minute."
   ]
  },
  {
   "cell_type": "code",
   "execution_count": 25,
   "metadata": {
    "collapsed": false
   },
   "outputs": [
    {
     "data": {
      "text/plain": [
       "<matplotlib.text.Text at 0x108f02c10>"
      ]
     },
     "execution_count": 25,
     "metadata": {},
     "output_type": "execute_result"
    },
    {
     "data": {
      "image/png": "[encoded data removed]",
      "text/plain": [
       "<matplotlib.figure.Figure at 0x108e58550>"
      ]
     },
     "metadata": {},
     "output_type": "display_data"
    }
   ],
   "source": [
    "b = [67,85,103,114,118];\n",
    "A = [[1,1],[1,3],[1,4],[1,5],[1,6]]\n",
    "x = [[55.959],[10.905]]\n",
    "y = np.dot(A,x)\n",
    "t = [1,3,4,5,6]\n",
    "plt.plot(t,b,'rs',t,y,'bs--')\n",
    "plt.xlim((0,7))\n",
    "plt.xlabel('Time (minutes)')\n",
    "plt.ylabel('Temperature (Farenheit)')\n",
    "plt.title('Linear fit of temperature of a kettle over time')"
   ]
  },
  {
   "cell_type": "markdown",
   "metadata": {},
   "source": [
    "### Fitting a quadratic equation\n",
    "Just as we could parameterize a line with two parameters as\n",
    "  $$ \\ell(t) = x_1 + x_2 t, $$\n",
    "we can parameterize a quadratic equation as\n",
    "  $$ q(t) = x_1 + x_2 t + x_3 t^2. $$\n",
    "Should we try to fit this quadratic equation to our data, we would seek values of $x_1$, $x_2$, and $x_3$ such that\n",
    "  $$ \\begin{bmatrix} 67 \\\\ 85 \\\\ 103 \\\\ 114 \\\\ 118 \\end{bmatrix} \\approx \\begin{bmatrix} q(1) \\\\ q(3) \\\\ q(4) \\\\ q(5) \\\\ q(6) \\end{bmatrix} = \\begin{bmatrix} x_1 + 1 x_2 + 1 x_3 \\\\ x_1 + 3 x_2 + 9 x_3 \\\\ x_1 + 4 x_2 + 16 x_3 \\\\ x_1 + 5 x_2 + 25 x_3 \\\\ x_1 + 6 x_2 + 36 x_3 \\end{bmatrix} = \\begin{pmatrix} 1 & 1 & 1 \\\\ 1 & 3 & 9 \\\\ 1 & 4 & 16 \\\\ 1 & 5 & 25 \\\\ 1 & 6 & 36 \\end{pmatrix} \\begin{bmatrix} x_1 \\\\ x_2 \\\\ x_3 \\end{bmatrix}, $$\n",
    "since the measurement was $67$F after 1 minute, $85$F after 3 minutes, etc.\n",
    "\n",
    "Just as before, we now have a model matrix, say $A$ and seek the approximation\n",
    "$$ b \\approx A x, $$\n",
    "and can find the best approximation (with respect to the two-norm) via solving the normal equations\n",
    " $$ A^T A x = A^T b. $$\n",
    "The only difference from the previous example, where we fit a line, is that we have three parameters to find and must therefore solve a $3 \\times 3$ system of equations.\n",
    "\n",
    "In particular, we would find the normal equations\n",
    "$$ \\begin{pmatrix} 5 & 19 & 87 \\\\ 19 & 87 & 433 \\\\ 87 & 433 & 2256 \\end{pmatrix} \\begin{bmatrix} x_1 \\\\ x_2 \\\\ x_3 \\end{bmatrix} = \\begin{bmatrix} 487 \\\\ 2012 \\\\ 9578 \\end{bmatrix}, $$\n",
    "which have the solution\n",
    "$$ \\begin{bmatrix} x_1 \\\\ x_2 \\\\ x_3 \\end{bmatrix} \\approx \\begin{bmatrix} 52.9278 \\\\ 13.2644 \\\\ -0.3409 \\end{bmatrix}, $$\n",
    "which implies a prediction\n",
    "$$ q(t) = 52.9278 + 13.2644 t - 0.3409 t^2, $$\n",
    "which has a relatively small quadratic term and is therefore close to linear, as can be seen in the following figure."
   ]
  },
  {
   "cell_type": "code",
   "execution_count": 24,
   "metadata": {
    "collapsed": false
   },
   "outputs": [
    {
     "data": {
      "text/plain": [
       "<matplotlib.text.Text at 0x108ddc850>"
      ]
     },
     "execution_count": 24,
     "metadata": {},
     "output_type": "execute_result"
    },
    {
     "data": {
      "image/png": "[encoded data removed]",
      "text/plain": [
       "<matplotlib.figure.Figure at 0x108d25650>"
      ]
     },
     "metadata": {},
     "output_type": "display_data"
    }
   ],
   "source": [
    "b = [67,85,103,114,118];\n",
    "A = [[1,1,1],[1,3,9],[1,4,16],[1,5,25],[1,6,36]]\n",
    "x = [[52.928],[13.2644],[-0.3409]]\n",
    "y = np.dot(A,x)\n",
    "t = [1,3,4,5,6]\n",
    "plt.plot(t,b,'rs',t,y,'bs--')\n",
    "plt.xlim((0,7))\n",
    "plt.xlabel('Time (minutes)')\n",
    "plt.ylabel('Temperature (Farenheit)')\n",
    "plt.title('Quadratic fit of temperature of a kettle over time')"
   ]
  },
  {
   "cell_type": "markdown",
   "metadata": {},
   "source": [
    "### Homework 3\n",
    "Due in class on Monday, May 18.\n",
    "\n",
    "#### Problem 1\n",
    "Given the system of equations\n",
    "   $$ \\begin{pmatrix} 1 & 2 & 3 \\\\ 2 & 5 & 2 \\\\ 3 & 4 & 5 \\end{pmatrix} \n",
    "      \\begin{bmatrix} x_1 \\\\ x_2 \\\\ x_3 \\end{bmatrix} = \n",
    "      \\begin{bmatrix} 5 \\\\ 6 \\\\ 7 \\end{bmatrix}, $$\n",
    "      \n",
    "**a)** Perform Gaussian Elimination to put the system of equations into upper-triangular form.\n",
    "\n",
    "**b)** Perform back substitution to find $x_3$, $x_2$, and then $x_1$.\n",
    "\n",
    "#### Problem 2\n",
    "Given the matrix \n",
    "$$ A = \\begin{pmatrix} 1 & 7 & 8 & 3 \\\\ 2 & 4 & 2 & 1 \\end{pmatrix}, $$\n",
    "\n",
    "**a)** Write down the transpose of $A$ (which is denoted $A^T$).\n",
    "\n",
    "**b)** Compute $C = A^T A$.\n",
    "\n",
    "#### Problem 3\n",
    "Given the measurements $(5,4,5,5,10,7)$, respectively occuring at times $(0,1,2,3,4,5)$:\n",
    "\n",
    "**a)** Compute the \"best\" (with respect to the two-norm) **linear** fit of the dataset.\n",
    "\n",
    "**b)** Compute the \"best\" (with respect to the two-norm) **quadratic** fit of the dataset."
   ]
  }
 ],
 "metadata": {
  "kernelspec": {
   "display_name": "Python 2",
   "language": "python",
   "name": "python2"
  },
  "language_info": {
   "codemirror_mode": {
    "name": "ipython",
    "version": 2
   },
   "file_extension": ".py",
   "mimetype": "text/x-python",
   "name": "python",
   "nbconvert_exporter": "python",
   "pygments_lexer": "ipython2",
   "version": "2.7.9"
  }
 },
 "nbformat": 4,
 "nbformat_minor": 0
}
