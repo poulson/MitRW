{
 "cells": [
  {
   "cell_type": "markdown",
   "metadata": {},
   "source": [
    "## Mathematics in the Real World\n",
    "### Regression (draft)\n",
    "#### Prof. Jack Poulson; May 10, 2015"
   ]
  },
  {
   "cell_type": "markdown",
   "metadata": {},
   "source": [
    "<img src=\"files/images/regression.png\" />"
   ]
  },
  {
   "cell_type": "markdown",
   "metadata": {},
   "source": [
    "## Regression\n",
    "While we have previously discussed how to approximate a dataset with a single point (e.g., the *median*, *mean*, or *mode*), performing a more sophisticated approximation, such as fitting a line or quadratic to the data, requires that we increase our level of mathematical sophistication substantially. In particular, we will need an elementary understanding of **linear algebra**, which is the area of study focused on linear transformations of vectors.\n",
    "\n",
    "### Linear transformations\n",
    "Before we can describe what is meant by a linear transformation, it is useful for us to first describe the notation used for basic manipulations of vectors, such as scaling every entry by the same value, and adding two vectors together.\n",
    "\n",
    "#### Scaling vectors\n",
    "Perhaps the most basic operation that we can perform on a vector is to rescale it, such as by multiplying every entry by two. In this case, we might say that we multiplied the vector by the *scalar* two. More generally, for any number $\\lambda$, we might denote scaling a vector $x$ by $\\lambda$ as\n",
    "   $$ \\lambda x = \\lambda \\begin{bmatrix} x_1 \\\\ x_2 \\\\ \\vdots \\\\ x_n \\end{bmatrix} = \\begin{bmatrix} \\lambda x_1 \\\\ \\lambda x_2 \\\\ \\vdots \\\\ \\lambda x_n \\end{bmatrix}. $$\n",
    "   \n",
    "For example, \n",
    "  $$ 5 \\begin{bmatrix} 2 \\\\ 4 \\\\ 6 \\\\ 8 \\end{bmatrix} = \\begin{bmatrix} 10 \\\\ 20 \\\\ 30 \\\\ 40 \\end{bmatrix}. $$\n",
    "   \n",
    "#### Adding vectors\n",
    "An even more natural operation, which you would likely have seen in a high-school physics class, is the *addition* of two vectors:\n",
    "$$ x + y = \\begin{bmatrix} x_1 \\\\ x_2 \\\\ \\vdots \\\\ x_n \\end{bmatrix} + \\begin{bmatrix} y_1 \\\\ y_2 \\\\ \\vdots \\\\ y_n \\end{bmatrix} = \\begin{bmatrix} x_1 + y_1 \\\\ x_2 + y_2 \\\\ \\vdots \\\\ x_n + y_n \\end{bmatrix}. $$\n",
    "For example, \n",
    "  $$ \\begin{bmatrix} 1 \\\\ 2 \\\\ 3 \\\\ 4 \\end{bmatrix} + \\begin{bmatrix} 2 \\\\ 4 \\\\ 6 \\\\ 8 \\end{bmatrix} = \\begin{bmatrix} 3 \\\\ 6 \\\\ 9 \\\\ 12 \\end{bmatrix}. $$\n",
    "   \n",
    "#### Definition of a linear function\n",
    "Now that we have defined how to scale and add vectors, we are ready to list the two requirements that a transformation $f$, which takes in a vector as an input and gives back another vector as an output, must meet in order for it to be called **linear**:\n",
    "\n",
    "1. For any *scalar* $\\lambda$ and input vector $x$, scaling the input and then applying the transformation is the same as applying the transformation and then scaling the output:\n",
    "     $$ f(\\lambda x) = \\lambda f(x),\\text{ and}$$\n",
    "2. For any two input vectors $x$ and $y$, transforming their sum is the same as summing their transforms:\n",
    "   $$ f(x+y) = f(x) + f(y). $$\n",
    "\n",
    "For example, suppose a function $f$ transforms each entry in a vector of length two into another vector of length two, but with each entry squared:\n",
    "$$ f(x) = f\\left(\\begin{bmatrix}x_1 \\\\ x_2 \\end{bmatrix}\\right) = \\begin{bmatrix} x_1^2 \\\\ x_2^2 \\end{bmatrix}. $$\n",
    "Then, picking a real number $\\lambda$, we would see that\n",
    "  $$ f(\\lambda x) = f\\left(\\begin{bmatrix} \\lambda x_1 \\\\ \\lambda x_2 \\end{bmatrix}\\right) = \\begin{bmatrix} \\lambda^2 x_1^2 \\\\ \\lambda^2 x_2^2 \\end{bmatrix} = \\lambda^2 f(x), $$\n",
    "which therefore does not satisfy property (1) that $f(\\lambda x) = \\lambda f(x)$.\n",
    "\n",
    "On the other hand, consider the function $f$ such that \n",
    "  $$ f(x) = f\\left(\\begin{bmatrix} x_1 \\\\ x_2 \\end{bmatrix}\\right) = \\begin{bmatrix} 2 x_1 + 3 x_2 \\\\ 4 x_1 + 5 x_2 \\end{bmatrix}. $$\n",
    "We can then easily see that $f$ satisfies both property (1) and property (2) for linearity by computing\n",
    "  $$ f(\\lambda x) = f\\left(\\begin{bmatrix} \\lambda x_1 \\\\ \\lambda x_2 \\end{bmatrix}\\right) = \\begin{bmatrix} 2 (\\lambda x_1) + 3 (\\lambda x_2) \\\\ 4 (\\lambda x_1) + 5 (\\lambda x_2) \\end{bmatrix} = \\lambda \\begin{bmatrix} 2 x_1 + 3 x_2 \\\\ 4 x_1 + 5 x_2 \\end{bmatrix} = \\lambda f(x), $$\n",
    "which shows property (1), and\n",
    "  $$ f(x + y) = f\\left(\\begin{bmatrix} x_1 + y_1 \\\\ x_2 + y_2 \\end{bmatrix}\\right) = \\begin{bmatrix} 2 (x_1 + y_1) + 3 (x_2 + y_2) \\\\ 4 (x_1 + y_1) + 5 (x_2 + y_2) \\end{bmatrix} = \\begin{bmatrix} 2 x_1 + 3 x_2 \\\\ 4 x_1 + 5 x_2 \\end{bmatrix} + \\begin{bmatrix} 2 y_1 + 3 y_2 \\\\ 4 y_1 + 5 y_2 \\end{bmatrix} = f(x) + f(y), $$\n",
    "which shows property (2).\n",
    "\n",
    "#### Representing linear transformations using matrices\n",
    "It is in fact the case that **all** linear transformations of vectors take forms which are very similar to that from our last example. In particular, each entry of the output of $f(x)$ must be a weighted sum of the entries of the input. For this reason, it is common to re-express linear transformations of vectors using a table known as a **matrix**. We thus might rewrite the function that we just found to be linear,\n",
    "  $$ f\\left(\\begin{bmatrix} x_1 \\\\ x_2 \\end{bmatrix}\\right) = \\begin{bmatrix} 2 x_1 + 3 x_2 \\\\ 4 x_1 + 5 x_2 \\end{bmatrix}, $$\n",
    "using the **matrix notation**\n",
    "  $$ f\\left(\\begin{bmatrix} x_1 \\\\ x_2 \\end{bmatrix}\\right) = \\begin{pmatrix} 2 & 3 \\\\ 4 & 5 \\end{pmatrix} \\begin{bmatrix} x_1 \\\\ x_2 \\end{bmatrix}, $$\n",
    "where we have represented the linear transformation $f$ as a matrix, say $F = \\begin{pmatrix} 2 & 3 \\\\ 4 & 5 \\end{pmatrix}$.\n",
    "  \n",
    "Notice that nothing about the concept of linearity required that the input vector be of the same size as the output vector, and so we could equally-well define the linear transformation\n",
    "  $$ f\\left(\\begin{bmatrix} x_1 \\\\ x_2 \\end{bmatrix}\\right) = \\begin{bmatrix} x_1 + x_2 \\\\ x_1 + 2 x_2 \\\\ x_1 + 3 x_2 \\\\ x_1 + 4 x_2 \\end{bmatrix} = \\begin{pmatrix} 1 & 1 \\\\ 1 & 2 \\\\ 1 & 3 \\\\ 1 & 4 \\end{pmatrix} \\begin{bmatrix} x_1 \\\\ x_2 \\end{bmatrix}. $$\n",
    "  \n",
    "Furthermore, we can formalize the rule for how to compute the $i$'th entry of the result of applying an $m \\times n$ matrix (that is, a matrix with $m$ rows and $n$ columns) via the rule\n",
    "  $$ \\left(A x\\right)_i = \\sum_{j=1}^n A(i,j) x(j), $$\n",
    "where $A(i,j)$ refers to the entry of $A$ occuring in the $i$'th row (counting from the top) and $j$'th column (counting rightward). We can then see that the formula specifies that the $i$'th entry of the result of $A x$ involves summing the $i$'th row of $A$ with the entire input vector, $x$.\n",
    "\n",
    "Lastly, we will later make use of the concept of a **transpose** of a matrix $A$, denoted as $A^T$, which has its entry in position $(i,j)$ equal to the entry in position $(j,i)$ of $A$,\n",
    "or\n",
    "  $$ A^T(i,j) = A(j,i). $$\n",
    "\n",
    "### Fitting a line\n",
    "Now suppose that our dataset is a set of measurements, say the temperature of a kettle of water over time, and we would like to determine the most accurate description of the temperature data as having a fixed starting temperature and a constant increase over time."
   ]
  },
  {
   "cell_type": "code",
   "execution_count": 13,
   "metadata": {
    "collapsed": false
   },
   "outputs": [
    {
     "data": {
      "text/plain": [
       "<matplotlib.text.Text at 0x10757d5d0>"
      ]
     },
     "execution_count": 13,
     "metadata": {},
     "output_type": "execute_result"
    },
    {
     "data": {
      "image/png": "[encoded data removed]",
      "text/plain": [
       "<matplotlib.figure.Figure at 0x106d37510>"
      ]
     },
     "metadata": {},
     "output_type": "display_data"
    }
   ],
   "source": [
    "%matplotlib inline\n",
    "import numpy as np\n",
    "import matplotlib.pyplot as plt\n",
    "\n",
    "b = [67,95,103,114,120,140];\n",
    "t = [5,25,45,60,75,90];\n",
    "plt.plot(t,b,'rs')\n",
    "plt.xlabel('Time (seconds)')\n",
    "plt.ylabel('Temperature (Farenheit)')\n",
    "plt.title('Measured temperature of a kettle over time')"
   ]
  },
  {
   "cell_type": "markdown",
   "metadata": {},
   "source": [
    "Perhaps the most common way to parameterize a line is as\n",
    "  $$ \\ell(t) = x_1 + x_2 t, $$\n",
    "where $x_1$ would typically be called the \"y-intercept\", and $x_2$ the \"slope\". A reasonable task would then be to pick values of $x_1$ and $x_2$ so that the predictions are approximately\n",
    "equal to the measured data, i.e.,\n",
    "  $$ \\begin{bmatrix} 67 \\\\ 95 \\\\ 103 \\\\ 114 \\\\ 120 \\\\ 140 \\end{bmatrix} \\approx \\begin{bmatrix} x_1 + 5 x_2 \\\\ x_1 + 25 x_2 \\\\ x_1 + 45 x_2 \\\\ x_1 + 60 x_2 \\\\ x_1 + 75 x_2 \\\\ x_1 + 90 x_2 \\end{bmatrix} = \\begin{pmatrix} 1 & 5 \\\\ 1 & 25 \\\\ 1 & 45 \\\\ 1 & 60 \\\\ 1 & 75 \\end{pmatrix} \\begin{bmatrix} x_1 \\\\ x_2 \\end{bmatrix}, $$\n",
    "since the measurement was $67$F after 5 seconds, $95$F after 25 seconds, etc., and we can \n",
    "recognize that the predictions are in fact a linear transformation of the parameters describing the line. We might call the matrix mapping the line parameters to the predictions $A$, the vector of parameters $x$, and the vector of measurements $b$, so that we seek $x$ such that\n",
    "  $$ b \\approx A x. $$\n",
    "\n",
    "#### The \"normal equations\"\n",
    "This approximation is typically accomplished through finding the values of $x_1$ and $x_2$ which minimize the two-norm of the deviation between the predictions and the measurements, which is usually phrased as solving the minimization problem:\n",
    "  $$ \\min_{x_1,x_2} \\left\\| \\; b - A x \\; \\right\\|_2. $$\n",
    "While this equation may be intimidating, basic calculus allows one to realize that solving this minimization problem is, under modest assumptions, equivalent to solving the \"normal\" system of equations\n",
    "  $$ A^T A x = A^T b, $$\n",
    "where the left-hand side, $A^T A x$, is the result of applying the transformation $A^T$ to the vector $ A x $, while the right-hand side is simply the transformation of $b$ by the matrix $A^T$.\n",
    "\n",
    "**TODO** Given an example of forming $A^T A x$ similar to the one described in class.\n",
    "\n",
    "#### Directly forming the matrix $A^T A$\n",
    "**TODO: Describe how the symbolic result of $A^T A x$ implies the matrix $A^T A$**\n",
    "$$ C(i,j) = \\sum_k F(i,k), G(k,j). $$\n",
    "\n",
    "#### Solving the normal equations via Gaussian Elimination\n",
    "**TODO**\n",
    "\n",
    "### Fitting a quadratic equation\n",
    "..."
   ]
  },
  {
   "cell_type": "markdown",
   "metadata": {},
   "source": [
    "### Homework 3\n",
    "Due in class on Monday, April 18.\n",
    "\n",
    "#### Problem 1\n",
    "Given the system of equations\n",
    "   $$ \\begin{pmatrix} 1 & 2 & 3 \\\\ 2 & 5 & 2 \\\\ 3 & 4 & 5 \\end{pmatrix} \n",
    "      \\begin{bmatrix} x_1 \\\\ x_2 \\\\ x_3 \\end{bmatrix} = \n",
    "      \\begin{bmatrix} 5 \\\\ 6 \\\\ 7 \\end{bmatrix}, $$\n",
    "      \n",
    "**a)** Perform Gaussian Elimination to put the system of equations into upper-triangular form.\n",
    "\n",
    "**b)** Perform back substitution to find $x_3$, $x_2$, and then $x_1$.\n",
    "\n",
    "#### Problem 2\n",
    "Given the matrix \n",
    "$$ A = \\begin{pmatrix} 1 & 7 & 8 & 3 \\\\ 2 & 4 & 2 & 1 \\end{pmatrix}, $$\n",
    "\n",
    "**a)** Write down the transpose of $A$, $A^T$.\n",
    "\n",
    "**b)** Compute $C = A^T A$.\n",
    "\n",
    "#### Problem 3\n",
    "Given the measurements $(5,4,5,5,10,7)$, respectively occuring at times $(0,1,2,3,4,5)$:\n",
    "\n",
    "**a)** Compute the \"best\" (with respect to the two-norm) **linear** fit of the dataset.\n",
    "\n",
    "**b)** Compute the \"best\" (with respect to the two-norm) **quadratic** fit of the dataset."
   ]
  }
 ],
 "metadata": {
  "kernelspec": {
   "display_name": "Python 2",
   "language": "python",
   "name": "python2"
  },
  "language_info": {
   "codemirror_mode": {
    "name": "ipython",
    "version": 2
   },
   "file_extension": ".py",
   "mimetype": "text/x-python",
   "name": "python",
   "nbconvert_exporter": "python",
   "pygments_lexer": "ipython2",
   "version": "2.7.9"
  }
 },
 "nbformat": 4,
 "nbformat_minor": 0
}
