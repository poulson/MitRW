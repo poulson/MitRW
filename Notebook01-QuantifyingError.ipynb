{
 "metadata": {
  "name": "",
  "signature": "sha256:fd2da8d1b8a13faf6104795708ab731a57e144b90ef27c97996206ce8af75248"
 },
 "nbformat": 3,
 "nbformat_minor": 0,
 "worksheets": [
  {
   "cells": [
    {
     "cell_type": "markdown",
     "metadata": {},
     "source": [
      "## Mathematics in the Real World\n",
      "### Quantifying approximation error\n",
      "#### Prof. Jack Poulson; March 30, 2015"
     ]
    },
    {
     "cell_type": "markdown",
     "metadata": {},
     "source": [
      "<center><img src=\"files/images/linearRegression.png\" /></center>"
     ]
    },
    {
     "cell_type": "markdown",
     "metadata": {},
     "source": [
      "### Measuring the size of a list of numbers\n",
      "In order to have a precise way of discussing the quality of an approximation or fit of a dataset, it is useful to first decide on a small set of relevant descriptions of the **size** of a list of numbers, with the idea being that we can use these notions of size to quantify the deviation of an approximation from the original data. \n",
      "\n",
      "In the simplest case of a list that consists of a single number, say $\\chi$, high-school algebra would make use of the **absolute value** of $\\chi$, or $| \\chi |$, which we recall is equal to either $\\chi$ or $-\\chi$ (with the choice avoiding a negative result). For example, $|-7|=7$ and $|3|=3$, and so we might say that the **magnitude** of $-7$ is larger than the magnitude of $3$, despite the fact that $-7$ is less than $3$. Equipped with this way of measuring size, we could only conclude that $10$ is closer to $8$ than it is to $13$, as $|10-8|=2$ is less than $|10-13|=3$.\n",
      "\n",
      "But how should we go about precisely describing the sizes of lists of numbers? For example, which list of five numbers is larger, $(2,-2,2,-2,0)$, $(2,-2,0,3,0)$, $(0,0,0,4,0)$, or $(1,1,1,1,1)? Until we can decide how to answer this type of question, we have no hope of comparing the sizes of the error from different approximations to a dataset.\n",
      "\n",
      "The four most common choices for describing the size, or length, of a list of numbers $x$ (with $x(i)$ denoting the $i$'th entry of $x$) are:\n",
      "\n",
      "$$\n",
      "\\begin{eqnarray}\n",
      "\\| x \\|_0 &=& \\text{ the number of nonzero entries in } x, \\\\\n",
      "\\| x \\|_1 &=& \\sum_i |x(i)|, \\\\\n",
      "\\| x \\|_2 &=& \\sqrt{\\sum_i |x(i)|^2},\\;\\text{and} \\\\\n",
      "\\| x \\|_\\infty &=& \\max_i |x(i)|,\n",
      "\\end{eqnarray}\n",
      "$$\n",
      "\n",
      "where $ \\| x \\|_0 $ is the **cardinality** (colloquially referred to as the \"**zero-norm**\"), $ \\| x \\|_1 $ is the **sum of absolute values**, $ \\| x \\|_2 $ is the **square-root of the sum of squares** (also known as the **Euclidean length**), and $ \\| x \\|_\\infty $ is the **maximum absolute value**. While the $\\| \\cdot \\|$ notation may be awkward, it is the standard mathematical way of denoting the size of an object; in particular, mathematicians refer to the above definitions **norms** of **vectors**, and the common names are respectively the **cardinality**/\"**zero-norm**\", **one-norm**, **two-norm**, and **infinity-norm** for the reason that they can be thought of as special cases of the **$p$-norm**\n",
      "\n",
      "$$ \\| x \\|_p = \\left( \\sum_i |x(i)|^p \\right)^{1/p}. $$\n",
      "   \n",
      "Each of these definitions provides a unique viewpoint on what the *size* of a *list of numbers* should be (mathematicians prefer the terminology \"**norm** of a **vector**\") and potentially gives a different answer to our previous question of which list of numbers is larger. \n",
      "\n",
      "When measuring the **cardinality**/\"**zero-norm**\", which simply counts the number of nonzero values, we find\n",
      "\n",
      "  $$\n",
      "  \\begin{eqnarray}\n",
      "  \\| (2,-2,2,-2,0) \\|_0 &=& 4, \\\\\n",
      "  \\| (2,-2,0,3,0) \\|_0 &=& 3, \\\\\n",
      "  \\| (0,0,0,4,0) \\|_0 &=& 1,\\;\\text{and} \\\\\n",
      "  \\| (1,1,1,1,1) \\|_0 &=& 5,\n",
      "  \\end{eqnarray}\n",
      "  $$\n",
      "  \n",
      "which would select $(1,1,1,1,1)$ as the largest. On the other hand, when measuring in the **one-norm**, which involves the **sum of absolute values**, we see that\n",
      "\n",
      "  $$\n",
      "  \\begin{eqnarray}\n",
      "  \\| (2,-2,2,-2,0) \\|_1 &=& |2| + |-2| + |2| + |-2| + |0| = 8, \\\\\n",
      "  \\| (2,-2,0,3,0) \\|_1 &=& |2| + |-2| + |0| + |3| + |0| = 7, \\\\  \n",
      "  \\| (0,0,0,4,0) \\|_1 &=& |0| + |0| + |0| + |4| + |0| = 4,\\;\\text{and} \\\\\n",
      "  \\| (1,1,1,1,1) \\|_1 &=& |1| + |1| + |1| + |1| + |1| = 5,\n",
      "  \\end{eqnarray}\n",
      "  $$\n",
      "  \n",
      "which implies that $(2,-2,2,-2,0)$ is largest in this sense. For the **two-norm** (which measures the **Euclidean length**), we see that \n",
      "  \n",
      "  $$\n",
      "  \\begin{eqnarray}\n",
      "  \\| (2,-2,2,-2,0) \\|_2 &=& \\sqrt{|2|^2+|-2|^2+|2|^2+|-2|^2+|0|^2} = 4, \\\\\n",
      "  \\| (2,-2,0,3,0) \\|_2 &=& \\sqrt{|2|^2 + |-2|^2 + |0|^2 + |3|^2 + |0|^2} = \\sqrt{17}, \\\\\n",
      "  \\| (0,0,0,4,0) \\|_2 &=& \\sqrt{|0|^2 + |0|^2 + |0|^2 + |4|^2 + |0|^2} = 4,\\;\\text{and} \\\\\n",
      "  \\| (1,1,1,1,1) \\|_2 &=& \\sqrt{|1|^2 + |1|^2 + |1|^2 + |1|^2 + |1|^2} = \\sqrt{5},\n",
      "  \\end{eqnarray}\n",
      "  $$\n",
      "  \n",
      "which deems $(2,-2,0,3,0)$ the largest. And finally,\n",
      "  \n",
      "  $$\n",
      "  \\begin{eqnarray}\n",
      "  \\| (2,-2,2,-2,0) \\|_\\infty &=& \\max\\{|2|,|-2|,|2|,|-2|,|0|\\} = 2, \\\\\n",
      "  \\| (2,-2,0,3,0) \\|_\\infty &=& \\max\\{|2|,|-2|,|0|,|3|,|0|\\} = 3, \\\\\n",
      "  \\| (0,0,0,4,0) \\|_\\infty &=& \\max\\{|0|,|0|,|0|,|4|,|0|\\} = 4,\\;\\text{and} \\\\\n",
      "  \\| (1,1,1,1,1) \\|_\\infty &=& \\max\\{|1|,|1|,|1|,|1|,|1|\\} = 1,\n",
      "  \\end{eqnarray}\n",
      "  $$\n",
      "  \n",
      "shows that $(0,0,0,4,0)$ is largest with respect to its **maximal absolute value** (or **infinity-norm**). Thus, each of the four \"norms\" decided that a different list of numbers was largest! This turns out to imply that, if we ever look for the \"best\" fit for a dataset, the answer can vary drastically depending upon how we measure the size of the error. With that said, for both computational and historical reasons, the two-norm is by far the most common default, though it is worth mentioning in passing that modern statistics frequently involves spending the extra effort to use the one-norm due to the fact that it often produces more meaningful/robust answers."
     ]
    },
    {
     "cell_type": "markdown",
     "metadata": {},
     "source": [
      "### Estimating in the *zero-norm* produces the *mode*/*modes*\n",
      "Now that we have several ways of discussing the size of a list of numbers (or, again, in the usual mathematical terminology, the *norm* of a *vector*), it is possible to ask and answer questions such as\n",
      "\n",
      "> What is the best \"zero-norm\" estimate for $x$? Which is to say, for what value(s) of $\\alpha$ is $\\| x - \\alpha \\|_0$, which is the number of nonzero entries in $(x(1)-\\alpha,x(2)-\\alpha,...,x(n)-\\alpha)$, minimized?\n",
      "\n",
      "But this is precisely equal to searching for the most commonly occurring values in $x$ (usually referred to as **modes**). For example, the *mode* of $(1,2,1,3,0)$ is $1$, and the *modes* of $(2,-2,2,-2,0)$ are $-2$ and $2$."
     ]
    },
    {
     "cell_type": "markdown",
     "metadata": {},
     "source": [
      "### Estimating in the *infinity-norm* produces the *center*\n",
      "We are of course free to minimize with respect to a different measure of size, such as the **infinity-norm**:\n",
      "\n",
      "> What is the best infinity-norm estimate for $x$? Which is to say, for what value of $\\alpha$ is $\\| x - \\alpha \\|_\\infty = \\max_i |x(i)-\\alpha|$ minimized?\n",
      "\n",
      "Thankfully, there is a straight-forward way of directly computing this answer: given a vector $x$, we can set \n",
      "\n",
      "$$ \\alpha = \\frac{\\max x + \\min x}{2}, $$\n",
      "\n",
      "which can be interpreted as the average of the two extreme points of the dataset ($\\min x$ and $\\max x$). \n",
      "\n",
      "For example, for the vector $(2,3,4,7,100)$, the *center* can be computed as \n",
      "\n",
      "$$ \\frac{\\max x + \\min x}{2} = \\frac{100 + 2}{2} = 51. $$\n",
      "\n",
      "It is worth verifying that this is indeed the \"best\" solution in the *maximum absolute value* sense, as moving $\\alpha$ from this mid-point towards either $\\min x$ or $\\max x$ increases the distance to the other end-point."
     ]
    },
    {
     "cell_type": "markdown",
     "metadata": {},
     "source": [
      "### Estimating in the *one-norm* produces the *median*\n",
      "Likewise, we can ask the equivalent question using the one-norm as our means of measuring the deviation:\n",
      "\n",
      "> What is the best one-norm estimate for $x$? Which is to say, for what value of $\\alpha$ is $ \\| x - \\alpha \\|_1 = \\sum_i |x(i)-\\alpha|$ smallest?\n",
      "\n",
      "In this case, the \"best\" answer in the *sum of absolute values* sense is to set $\\alpha$ to the *median* of the dataset: in the case that $x$ has an odd number of entries (say, $2k - 1$), then the median is the unique value that is both the $k$'th largest and $k$'th smallest. In the case that $x$ has an even number of entries (say, $2k$), then we can define the median as the average of the $k$'th largest and $k$'th smallest entries of $x$.\n",
      "\n",
      "Let us again consider the vector $(2,3,4,7,100)$, which already has its entries sorted from smallest to largest, and so we may easily see that its median is $4$. In order to see why this is the \"best\" estimate of $(2,3,4,7,100)$ in the *one-norm*, or *sum of absolute value* sense, it is instructive to consider the table of distances of each data point from the median:\n",
      "\n",
      "<table>\n",
      "<tr>\n",
      "<td><strong>Data point</strong></td>\n",
      "<td><strong>Distance from 4</strong></td>\n",
      "</tr>\n",
      "<tr><td>2</td><td>2</td></tr>\n",
      "<tr><td>3</td><td>1</td></tr>\n",
      "<tr><td>4</td><td>0</td></tr>\n",
      "<tr><td>7</td><td>3</td></tr>\n",
      "<tr><td>100</td><td>96</td></tr>\n",
      "<tr><td><strong>Sum:</strong></td><td>102</td></tr>\n",
      "</table>\n",
      "\n",
      "If we were to test the value of $\\| x - \\alpha \\|_1$ for a choice of $\\alpha$ which was one greater than the median (i.e., 5), then we would see that each of the first three entries in the table would increase by one, while the last two entries would each decrease by one, and therefore the total sum would increase by one (showing that five is a worse guess than the median). Similarly, if we were to slightly decrease $\\alpha$ from the median, we would see the last three entries increase at the same rate as the first two entries decrease, which would again produce a worse estimate than the median.\n",
      "\n",
      "In the case that the vector contains an even number, say, $2k$, entries, any value lying between the $k$'th smallest and $k$'th largest entries could be seen to be an equally-good minimizer of $\\| x - \\alpha \\|_1$ and could be referred to as a median. But we will follow the common convention of calling the middle value of this range, the average of the $k$'th smallest and $k$'th largest entries, *the* median."
     ]
    },
    {
     "cell_type": "markdown",
     "metadata": {},
     "source": [
      "### Estimating in the *two-norm* produces the *mean*\n",
      "Our last question is likely now predictable:\n",
      "\n",
      "> What is the best two-norm estimate for $x$? Which is to say, for what value of $\\alpha$ is $ \\| x - \\alpha \\|_2 = \\sqrt{\\sum_i |x(i)-\\alpha|^2}$ smallest?\n",
      "\n",
      "Since this course explicitly assumes that students have *not* taken a calculus course, it is a bit unfortunate that calculus can be easily used to quickly answer this question (which largely explains why the two-norm is so widely used!). Nevertheless, the basic fact that calculus would have told us is that, if $x$ has $n$ entries, then the solution occurs when\n",
      "\n",
      "$$ \\sum_{i=1}^n (x(i) - \\alpha) = 0, $$\n",
      "\n",
      "which is the same as requiring that\n",
      "\n",
      "$$ \\alpha = \\frac{\\sum_{i=1}^n x(i)}{n}, $$\n",
      "\n",
      "which is precisely the definition of the *mean* of $x$."
     ]
    },
    {
     "cell_type": "markdown",
     "metadata": {},
     "source": [
      "### Conclusion\n",
      "Four different, but individually useful, definitions for the **norm** of a **vector** were introduced (with the technical caveat that the \"zero-norm\" is not actually a norm), and it was shown that the closest single number to a vector depends upon which norm is used to measure the deviation:\n",
      "\n",
      "1. The **modes** produce the smallest deviations in the \"**zero-norm**\"/**cardinality**, which measures the number of nonzero entries in a vector.\n",
      "\n",
      "2. The **medians** produce the smallest deviations in the **one-norm**, which measures the **sum of the absolute values** of the deviations.\n",
      "\n",
      "3. The **mean** yields the smallest deviation in the **two-norm**, which measures the **square-root of the sum of the squares** of the deviations (in a natural generalization of the Pythagorean theorem).\n",
      "\n",
      "4. The **center** yields the smallest deviation in the **infinity-norm**, which measures the largest deviation of any particular entry.\n",
      "\n",
      "While this set of notes may come across as excessively abstract to students who have not thought about math in several years, the next lecture will begin to make use of these tools to analyze the expected outcomes from games involving random coin flips."
     ]
    }
   ],
   "metadata": {}
  }
 ]
}