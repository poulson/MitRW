{
 "metadata": {
  "name": "",
  "signature": "sha256:f22a80fa9dd64e0e04ec8324b617bff1fcb2466e724229a24ca047123bf146b6"
 },
 "nbformat": 3,
 "nbformat_minor": 0,
 "worksheets": [
  {
   "cells": [
    {
     "cell_type": "markdown",
     "metadata": {},
     "source": [
      "## Mathematics in the Real World\n",
      "### Solutions for Homework 1\n",
      "#### Prof. Jack Poulson; April 12, 2015"
     ]
    },
    {
     "cell_type": "markdown",
     "metadata": {},
     "source": [
      "#### Problems 1-3\n",
      "\n",
      "Each of these problems should be student-dependent, and the same problems are worked out within the notes.\n",
      "\n",
      "#### Problem 4\n",
      "\n",
      "Suppose that the fair coin from the \"keep flipping until tails\" game was replaced with a weighted coin which would land on heads only one-third of the time (and on tails the other two-thirds). What would be the expected winnings from the game?\n",
      "\n",
      "##### Answer\n",
      "\n",
      "Straight-forward computations similar to thows in class show that the expected winnings for a single coin flip are:\n",
      "\n",
      "$$ E[W_1] = \\frac{2}{3}*0 + \\frac{1}{3}*1 = \\frac{1}{3}, $$\n",
      "\n",
      "whereas, for up to two coin flips, the expectation is\n",
      "\n",
      "$$ E[W_2] = \\frac{2}{3}*0 + \\frac{1}{3}*(1 + \\frac{2}{3}*0 + \\frac{1}{3}*1) = \\frac{1}{3} + \\frac{1}{9}, $$\n",
      "\n",
      "and for up to three coin flips it is\n",
      "\n",
      "$$ E[W_3] = \\frac{1}{3} + \\frac{1}{9} + \\frac{1}{27}. $$\n",
      "\n",
      "More generally, for $n$ coin flips, the expectation is\n",
      "\n",
      "$$ E[W_n] = \\sum_{k=1}^n \\left(\\frac{1}{3}\\right)^k, $$\n",
      "\n",
      "which can be easily verified to have a limit of $\\frac{1}{2}$, so that the expected winnings are $\\$0.50$.\n",
      "\n",
      "#### Problem 5 (Bonus)\n",
      "\n",
      "If we used the same weighted coin (1/3 heads and 2/3 tails) within the version of the \"keep flipping until tails\" game where the payoff from each heads doubles every time, what would our expected winnings be?\n",
      "\n",
      "##### Answer\n",
      "\n",
      "Using the same style of analysis as Problem 4, we can verify that the expected winnings from up to $n$ coin flips is\n",
      "\n",
      "$$ E[W_n] = \\sum_{k=1}^n \\frac{1}{2} \\left(\\frac{2}{3}\\right)^k = \\frac{1}{2} \\sum_{k=1}^n \\left(\\frac{2}{3}\\right)^k, $$\n",
      "\n",
      "which, as $n$ goes to infinity, can be verified to converge to $1$, so that the expected winnings are $\\$1$."
     ]
    }
   ],
   "metadata": {}
  }
 ]
}