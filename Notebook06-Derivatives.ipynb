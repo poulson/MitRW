{
 "cells": [
  {
   "cell_type": "markdown",
   "metadata": {},
   "source": [
    "## Mathematics in the Real World\n",
    "### Derivatives\n",
    "#### Prof. Jack Poulson; May 27, 2015"
   ]
  },
  {
   "cell_type": "markdown",
   "metadata": {},
   "source": [
    "<img src=\"files/images/derivative.png\" width=\"40%\" align=\"left\"/>"
   ]
  },
  {
   "cell_type": "markdown",
   "metadata": {},
   "source": [
    "## Derivatives\n",
    "A **derivative** of a function which only involves a single variable is effectively a precise way of describing the slope of the function at individual points. Perhaps the most frequent use is to search for points where the derivative is zero since this corresponds to the function being \"flat\" in some sense in that region, which is a necessary condition for the function to be (locally) minimal or maximal. For example, in the picture at the top of these notes, the derivative is zero in two locations: the left instance corresponds to the top of a hill (*local maximum*) and the right instance corresponds to the bottom of a valley (*local minimum*).\n",
    "\n",
    "While every student learns how to compute the slope of a line $\\ell(x)$ via the formula\n",
    "$$ \\text{slope} = \\frac{\\ell(x+h)-\\ell(x)}{h}, $$\n",
    "with the usual interpretation of $\\ell(x+h)-\\ell(x)$ being the height of a vertical line of a right-triangle and $h$ being the width of the base, the definition is unsatisfactory for functions whose slopes aren't constant since picking different values for $h$ potentially lead to different values for the slope. In effect, the grade school definition of slope involves the rate of change of the function between two points, whereas we would like to be able to associate a single characteristic slope to a single point. This is precisely what a derivative provides, and the basic approach is to begin with the gradeschool formula and investigate what happens as the slope is computed between two points arbitrarily close to each other (which corresponds to the base of the triangle becoming arbitrarily thin). More precisely, this leads to the definition of the derivative, which has **many** different common notations, of a function $f$ being defined as\n",
    "$$ \\frac{df}{dx} \\equiv f' \\equiv \\dot f \\equiv Df = \\lim_{h \\rightarrow 0} \\frac{f(x+h)-f(x)}{h}. $$\n",
    "\n",
    "### Derivatives are linear\n",
    "Perhaps the first thing to notice about our definition of a derivative is that it satisfies both of the two requirements needed to be considered **linear**. The simpler of the two requirements, that scaling the input and then taking the derivative is equal to taking the derivative and then scaling the output, is easily shown:\n",
    "$$ D(\\alpha f) = \\lim_{h \\rightarrow 0} \\frac{(\\alpha f(x+h)) - (\\alpha f(x))}{h} = \\alpha \\lim_{h \\rightarrow 0} \\frac{f(x+h)-f(x)}{h} = \\alpha D f. $$\n",
    "\n",
    "Under the assumption that two functions $f$ and $g$ are differentiable (consider the functions $f(x)=|x|$ and $g(x)=x^2-|x|$ at $x=0$ for a counter-example) then we can easily \n",
    "prove the other requirement for linearity:\n",
    "$$ D(f+g) = \\lim_{h \\rightarrow 0} \\frac{(f(x+h)+g(x+h))-(f(x)+g(x))}{h} = \\lim_{h \\rightarrow 0}\\left[ \\frac{f(x+h)-f(x)}{h} + \\frac{g(x+h)-g(x)}{h}\\right] = Df + Dg. $$\n",
    "   \n",
    "Both of these properties are immensely useful, as they tell us that, should someone ask for the derivative of a function of the form\n",
    "$$ f(x) = x^5 + 3 x^2 + 5 x + 4, $$\n",
    "we need only need to know how to compute the derivatives of $x^5$, $x^2$, $x$, and $4$ in order to compute the derivative of $f(x)$.\n",
    "\n",
    "### Revisiting estimation in the two norm\n",
    "From the beginning of the course, we repeatedly made use of conclusions based upon setting the derivatives of functions involving terms of the form $x^2$ to zero. Thankfully, it is a straight-forward exercise to compute the derivative of such terms, as\n",
    "$$ D \\xi^2 = \\lim_{h \\rightarrow 0} \\frac{(\\xi+h)^2 - \\xi^2}{h} = \\lim_{h \\rightarrow 0} \\frac{(\\xi^2 + 2\\xi h + h^2) - \\xi^2}{h} = \\lim_{h \\rightarrow 0} 2\\xi + h = 2 \\xi. $$\n",
    "\n",
    "Then, defining the square of the two-norm of the mismatch between a vector $b$ and a scalar $\\xi$ as\n",
    "$$ f(\\xi) = \\| b - \\xi \\|_2^2 = \\sum_{k=1}^n (b(i)-\\xi)^2 = \\sum_{k=1}^n (\\xi^2 - 2 \\xi b(i) + b(i)^2), $$\n",
    "and making use of the fact that $D \\xi = 1$,\n",
    "we find that $$ D f = \\sum_{k=1}^n (2 \\xi -2 b(i)). $$\n",
    "Then the derivative of $f$ being zero would require\n",
    "$$ \\sum_{k=1}^n (2 \\xi - 2 b(i)) = 2 (n \\xi - \\sum_{k=1}^n b(i)) = 0, $$\n",
    "which implies that\n",
    "$$ \\xi = \\frac{1}{n} \\sum_{k=1}^n b(i), $$\n",
    "which is precisely the definition of the mean of the vector $b$. Thus, with even a basic familiarity with derivatives and the fact that extrema occur where the derivative is zero, we can rigorously motivate the usage of a mean as a *best estimate* (with respect to the two norm).\n",
    "\n",
    "### The derivative of $x^p$\n",
    "It turns out that the result $D x^2 = 2 x$ has a simple generalization to more general (positive) powers of $x$. For example,\n",
    "$$ D x^3 = \\lim_{h \\rightarrow 0} \\frac{(x+h)^3 - x^3}{h} = \\lim_{h \\rightarrow 0} \\frac{(x^3 + 3 x^2 h + 3 x h^2 + h^3) - x^3}{h} = \\lim_{h \\rightarrow 0} 3 x^2 + 3 x h = 3 x^2, $$\n",
    "and, more trivially\n",
    "$$ D x = \\lim_{h \\rightarrow 0} \\frac{(x+h) - x}{h} = \\lim_{h \\rightarrow 0} 1 = 1, $$\n",
    "which all seem to follow the pattern\n",
    "$$ D x^p = p x^{p-1}. $$\n",
    "To show why this is the case, we first need to revive the *choose function*, whose values also go by the name of *binomial coefficients*, for reasons soon to be discussed.\n",
    "\n",
    "#### Binomial coefficients\n",
    "Consider the process involved in forming \n",
    "$$ (x+h)^3 = (x+h)(x+h)(x+h) = x x x + x x h + x h x + x h h + h x x + h x h + h h x + h h h = x^3 + 3 x^2 h + 3 x h^2 + x^3, $$\n",
    "which was purposely expressed in a way which emphasizes that every combination of three selections from the pair $(x,h)$ appears once. Indeed, this is quite similar to our earlier \n",
    "analysis of random walks, where we answered questions such as \"how many unique ways can we flip 20 tails out of 50 total coin flips?\" using the choose function (in particular, the answer is $\\binom{50}{20}$)). Similarly, we now see that the coefficient for the $x^2 h$ term is equal to the number of different ways that we can choose $x$ from $(x,h)$ two out of three times, $\\binom{3}{2}=3$, the coefficient for $x h^2$ is $\\binom{3}{1}=3$, the coefficient for $x^3$ is $\\binom{3}{3}=1$, and the coefficient for $h^3$ is $\\binom{3}{0}=1$.\n",
    "More generally, we can easily express the coefficients of $(x+h)^p$, where $p$ is a non-negative whole number, using the formula\n",
    "$$ (x+h)^p = \\sum_{k=0}^p \\binom{p}{k} x^k h^{p-k}. $$\n",
    "Each coefficient $\\binom{p}{k}$ is often referred to as a **binomial coefficient** since it provides the coefficient for $x^k h^{p-k}$ in the two-term expression $(x+h)^p$.\n",
    "\n",
    "#### Computing the derivative\n",
    "Equipped with the ability to break $(x+h)^p$ into its individual terms, we can now turn the derivative crank, starting with\n",
    "$$ D x^p = \\lim_{h \\rightarrow 0} \\frac{(x+h)^p - x^p}{h} = \\lim_{h\\rightarrow 0} \\frac{1}{h} \\left[ \\sum_{k=0}^p \\binom{p}{k} x^k h^{p-k} - x^p \\right]. $$\n",
    "Since the last term in the summation is\n",
    "$$ \\binom{p}{p} x^p h^{p-p} = x^p, $$\n",
    "we can cancel it with $-x^p$ and then divide every term by $h$ in order to find\n",
    "$$ D x^p = \\lim_{h \\rightarrow 0} \\sum_{k=0}^{p-1} \\binom{p}{k} x^k h^{p-1-k}, $$\n",
    "where the summation involves a single term with no dependence on $h$ (when $k=p-1$), and the remaining terms having positive powers of $h$ (e.g., $h$, $h^2$, ..., $h^{p-1}$). Thus, only the $k=p-1$ term will remain when setting $h=0$, and we find\n",
    "$$ D x^p = \\binom{p}{p-1} x^{p-1} = p x^{p-1}. $$"
   ]
  },
  {
   "cell_type": "markdown",
   "metadata": {},
   "source": [
    "### Homework 4 (optional)\n",
    "\n",
    "#### Problem 1\n",
    "Compute $(x+h)^4$ using both the brute-force approach and also via binomial coefficients.\n",
    "\n",
    "#### Problem 2\n",
    "Compute the derivative of $1/x$ step-by-step from the formula\n",
    "$$ D \\frac{1}{x} = \\lim_{h \\rightarrow 0} \\frac{(1/(x+h))-(1/x)}{h}. $$\n",
    "\n",
    "#### Problem 3\n",
    "Compute the derivative of $5x^3 + 4 x^2 + 3 x + 7$ (showing your work).\n",
    "\n",
    "#### Problem 4\n",
    "Compute the coefficient of the $x^5 y^4$ term in the expansion of $(x+y)^9$."
   ]
  }
 ],
 "metadata": {
  "kernelspec": {
   "display_name": "Python 2",
   "language": "python",
   "name": "python2"
  },
  "language_info": {
   "codemirror_mode": {
    "name": "ipython",
    "version": 2
   },
   "file_extension": ".py",
   "mimetype": "text/x-python",
   "name": "python",
   "nbconvert_exporter": "python",
   "pygments_lexer": "ipython2",
   "version": "2.7.9"
  }
 },
 "nbformat": 4,
 "nbformat_minor": 0
}
