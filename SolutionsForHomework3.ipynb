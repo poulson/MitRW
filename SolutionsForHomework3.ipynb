{
 "cells": [
  {
   "cell_type": "markdown",
   "metadata": {},
   "source": [
    "## Mathematics in the Real World\n",
    "### Solutions for Homework 3\n",
    "#### Prof. Jack Poulson; May 21, 2015"
   ]
  },
  {
   "cell_type": "markdown",
   "metadata": {
    "collapsed": true
   },
   "source": [
    "#### Problem 1\n",
    "Given the system of equations\n",
    "   $$ \\begin{pmatrix} 1 & 2 & 3 \\\\ 2 & 5 & 2 \\\\ 3 & 4 & 5 \\end{pmatrix} \n",
    "      \\begin{bmatrix} x_1 \\\\ x_2 \\\\ x_3 \\end{bmatrix} = \n",
    "      \\begin{bmatrix} 5 \\\\ 6 \\\\ 7 \\end{bmatrix}, $$\n",
    "      \n",
    "**a)** Perform Gaussian Elimination to put the system of equations into upper-triangular form.\n",
    "\n",
    "**b)** Perform back substitution to find $x_3$, $x_2$, and then $x_1$."
   ]
  },
  {
   "cell_type": "markdown",
   "metadata": {},
   "source": [
    "##### Part (a)\n",
    "Since our goal is to \"zero\" the entries of the matrix below the main diagonal, we start by subtracting $2/1$ times the first equation from the second equation, and $3/1$ times the first equation from the third equation to find:\n",
    "$$\n",
    "\\begin{pmatrix} 1 & 2 & 3 \\\\ 0 & 1 & -4 \\\\ 0 & -2 & -4 \\end{pmatrix} \\begin{bmatrix} x_1 \\\\ x_2 \\\\ x_3 \\end{bmatrix} = \\begin{bmatrix} 5 \\\\ -4 \\\\ -8 \\end{bmatrix}.\n",
    "$$\n",
    "The remaining entry can be zeroed by subtracting $-2/1$ times the second row from the third row and finding\n",
    "$$\n",
    "\\begin{pmatrix} 1 & 2 & 3 \\\\ 0 & 1 & -4 \\\\ 0 & 0 & -12 \\end{pmatrix} \\begin{bmatrix} x_1 \\\\ x_2 \\\\ x_3 \\end{bmatrix} = \\begin{bmatrix} 5 \\\\ -4 \\\\ -16 \\end{bmatrix}.\n",
    "$$\n",
    "##### Part(b)\n",
    "The first step of backwards substitution immediately tells us that\n",
    "$$ x_3 = \\frac{4}{3}, $$\n",
    "and the second then solves for $x_2$ in \n",
    "$$ x_2 - 4 x_3 = -4, $$\n",
    "and finds \n",
    "$$ x_2 = -4 + 4 x_3 = -4 + \\frac{16}{3} = \\frac{4}{3}. $$\n",
    "Lastly, we then solve\n",
    "$$ x_1 + 2 x_2 + 3 x_3 = 5 $$\n",
    "to find\n",
    "$$ x_1 = 5 - 2 x_2 - 3 x_3 = 5 - \\frac{8}{3} - \\frac{12}{3} = -\\frac{5}{3}. $$\n",
    "\n",
    "We can plug these values into the equation\n",
    "  $$ r = b - A x $$\n",
    "to find that the **residual**, $r$, is zero, which shows that the chosen parameters properly predict the data."
   ]
  },
  {
   "cell_type": "markdown",
   "metadata": {},
   "source": [
    "#### Problem 2\n",
    "Given the matrix \n",
    "$$ A = \\begin{pmatrix} 1 & 7 & 8 & 3 \\\\ 2 & 4 & 2 & 1 \\end{pmatrix}, $$\n",
    "\n",
    "**a)** Write down the transpose of $A$ (which is denoted $A^T$).\n",
    "\n",
    "**b)** Compute $C = A^T A$."
   ]
  },
  {
   "cell_type": "markdown",
   "metadata": {},
   "source": [
    "##### Part (a)\n",
    "The transpose is\n",
    "$$ \\begin{pmatrix} 1 & 2 \\\\ 7 & 4 \\\\ 8 & 2 \\\\ 3 & 1 \\end{pmatrix}. $$\n",
    "\n",
    "##### Part (b)\n",
    "The product is \n",
    "$$ \\begin{pmatrix} 1 & 2 \\\\ 7 & 4 \\\\ 8 & 2 \\\\ 3 & 1 \\end{pmatrix} \\begin{pmatrix} 1 & 7 & 8 & 3 \\\\ 2 & 4 & 2 & 1 \\end{pmatrix} = \\begin{pmatrix} 5 & 15 & 12 & 5 \\\\ 15 & 65 & 64 & 25 \\\\ 12 & 64 & 68 & 26 \\\\ 5 & 25 & 26 & 10 \\end{pmatrix}. $$"
   ]
  },
  {
   "cell_type": "markdown",
   "metadata": {},
   "source": [
    "#### Problem 3\n",
    "Given the measurements $(5,4,5,5,10,7)$, respectively occuring at times $(0,1,2,3,4,5)$:\n",
    "\n",
    "**a)** Compute the \"best\" (with respect to the two-norm) **linear** fit of the dataset.\n",
    "\n",
    "**b)** Compute the \"best\" (with respect to the two-norm) **quadratic** fit of the dataset."
   ]
  },
  {
   "cell_type": "markdown",
   "metadata": {},
   "source": [
    "##### Part (a)\n",
    "Use \n",
    "$$ A = \\begin{pmatrix} 1 & 0 \\\\ 1 & 1 \\\\ 1 & 2 \\\\ 1 & 3 \\\\ 1 & 4 \\\\ 1 & 5 \\end{pmatrix}, \\quad b = \\begin{bmatrix} 5 \\\\ 4 \\\\ 5 \\\\ 5 \\\\ 10 \\\\ 7 \\end{bmatrix}$$\n",
    "to set up the normal equations\n",
    "$$ A^T A x = A^T b, $$\n",
    "or, in our case,\n",
    "$$ \\begin{pmatrix} 6 & 15 \\\\ 15 & 55 \\end{pmatrix} \\begin{bmatrix} x_1 \\\\ x_2 \\end{bmatrix} = \\begin{bmatrix} 36 \\\\ 104 \\end{bmatrix}, $$\n",
    "which has a solution (e.g., through Gaussian Elimination) of \n",
    "$$ x_1 = 4,\\quad x_2 = \\frac{4}{5}. $$\n",
    "The implied linear fit is thus\n",
    "$$ \\ell(t) = 4 + \\frac{4}{5} t. $$\n",
    "\n",
    "##### Part (b)\n",
    "\n",
    "$$ A = \\begin{pmatrix} 1 & 0 & 0 \\\\ 1 & 1 & 1 \\\\ 1 & 2 & 4 \\\\ 1 & 3 & 9 \\\\ 1 & 4 & 16 \\\\ 1 & 5 & 25 \\end{pmatrix}, \\quad \\begin{bmatrix} 5 \\\\ 4 \\\\ 5 \\\\ 5 \\\\ 10 \\\\ 7 \\end{bmatrix}$$\n",
    "to set up the normal equations\n",
    "$$ A^T A x = A^T b, $$\n",
    "which, in our case, is\n",
    "$$ \\begin{pmatrix} 6 & 15 & 55 \\\\ 15 & 55 & 225 \\\\ 55 & 225 & 979 \\end{pmatrix} \\begin{bmatrix} x_1 \\\\ x_2 \\\\ x_3 \\end{bmatrix} = \\begin{bmatrix} 36 \\\\ 104 \\\\ 404 \\end{bmatrix}, $$\n",
    "which has the solution (e.g., through Gaussian Elimination)\n",
    "$$ x_1 \\approx 4.35714, \\quad x_2 \\approx 0.26429, \\quad x_3 \\approx 0.10714. $$\n",
    "The implied quadratic fit is thus\n",
    "$$ q(t) \\approx 4.35714 + 0.26429 t + 0.10714 t^2, $$\n",
    "which is qualitatively different than our linear fit."
   ]
  },
  {
   "cell_type": "code",
   "execution_count": 7,
   "metadata": {
    "collapsed": false
   },
   "outputs": [
    {
     "data": {
      "text/plain": [
       "(3, 11)"
      ]
     },
     "execution_count": 7,
     "metadata": {},
     "output_type": "execute_result"
    },
    {
     "data": {
      "image/png": "[encoded data removed]",
      "text/plain": [
       "<matplotlib.figure.Figure at 0x106111350>"
      ]
     },
     "metadata": {},
     "output_type": "display_data"
    }
   ],
   "source": [
    "%matplotlib inline\n",
    "import numpy as np\n",
    "import matplotlib.pyplot as plt\n",
    "\n",
    "b = [5,4,5,5,10,7];\n",
    "ALin = [[1,0],[1,1],[1,2],[1,3],[1,4],[1,5]]\n",
    "AQuad = [[1,0,0],[1,1,1],[1,2,4],[1,3,9],[1,4,16],[1,5,25]]\n",
    "xLin = [4,0.8]\n",
    "xQuad = [4.35714,0.26429,0.10714]\n",
    "yLin = np.dot(ALin,xLin)\n",
    "yQuad = np.dot(AQuad,xQuad)\n",
    "t = [0,1,2,3,4,5]\n",
    "plt.plot(t,b,'ks',t,yLin,'bs--',t,yQuad,'rs--')\n",
    "plt.xlim((-1,6))\n",
    "plt.ylim((3,11))"
   ]
  }
 ],
 "metadata": {
  "kernelspec": {
   "display_name": "Python 2",
   "language": "python",
   "name": "python2"
  },
  "language_info": {
   "codemirror_mode": {
    "name": "ipython",
    "version": 2
   },
   "file_extension": ".py",
   "mimetype": "text/x-python",
   "name": "python",
   "nbconvert_exporter": "python",
   "pygments_lexer": "ipython2",
   "version": "2.7.9"
  }
 },
 "nbformat": 4,
 "nbformat_minor": 0
}
