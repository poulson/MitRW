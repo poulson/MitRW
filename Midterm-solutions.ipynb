{
 "cells": [
  {
   "cell_type": "markdown",
   "metadata": {},
   "source": [
    "## Mathematics in the Real World\n",
    "### Midterm solutions\n",
    "#### Prof. Jack Poulson; May 2, 2015"
   ]
  },
  {
   "cell_type": "markdown",
   "metadata": {},
   "source": [
    "#### Problem 1\n",
    "Given the dataset \n",
    "  $$ 1, 2, 10, 10.5, 11, 11.5, 12, 15, 20, $$\n",
    "  \n",
    "(a) **[25 pts]** Draw and label a box and whisker plot for the dataset.\n",
    "\n",
    "(b) **[10 pts]** Compute the best two-norm and max-norm estimates."
   ]
  },
  {
   "cell_type": "code",
   "execution_count": 1,
   "metadata": {
    "collapsed": false
   },
   "outputs": [
    {
     "data": {
      "image/png": "[encoded data removed]",
      "text/plain": [
       "<matplotlib.figure.Figure at 0x7f3f6876ce10>"
      ]
     },
     "metadata": {},
     "output_type": "display_data"
    }
   ],
   "source": [
    "%matplotlib inline\n",
    "import matplotlib.pyplot as plt\n",
    "\n",
    "x = [1,2,10,10.5,11,11.5,12,15,20]\n",
    "\n",
    "fig = plt.figure()\n",
    "plt.boxplot(x, \n",
    "            notch=False, # box instead of notch shape \n",
    "            sym='rs',    # red squares for outliers\n",
    "            vert=True)   # vertical box aligmnent\n",
    "t = plt.title('Box plot')\n",
    "plt.show()"
   ]
  },
  {
   "cell_type": "markdown",
   "metadata": {},
   "source": [
    "The best two-norm estimate is the mean, which is\n",
    "  $$ \\frac{1+2+10+10.5+11+11.5+12+15+20}{9} = 10 \\frac{1}{3}, $$\n",
    "while the best max-norm estimate is\n",
    "  $$ \\frac{1+20}{2} = 10.5. $$"
   ]
  },
  {
   "cell_type": "markdown",
   "metadata": {},
   "source": [
    "#### Problem 2\n",
    "Suppose that you took 50 random steps in a random walk where you were four times as likely to step forwards as backwards in each step.\n",
    "\n",
    "(a) **[10 pts]** How many unique walks can end at $+20$? (Providing the formula is enough.)\n",
    "\n",
    "(b) **[10 pts]** What is the probability of each of the paths that ends at $+20$? (Providing the formula is enough.)\n",
    "\n",
    "(c) **[10 pts]** What is the probability of ending at $+20$ after 50 steps? (Providing the formula is enough.)"
   ]
  },
  {
   "cell_type": "markdown",
   "metadata": {},
   "source": [
    "For part (a), if we denote the number of backward steps as $x$, then we know that ending at $+20$ implies that there were $20$ more forward steps than backward, and so, since there were a total of $50$ steps,\n",
    " $$ x + (20+x) = 50. $$\n",
    "which implies that $x=15$, and so there were 15 backward steps and 35 forward steps. And, as we have discussed in class, the number of different ways to take 15 backward steps out of 50 (or, equivalently, 50-15=35 forward steps out of 50) is given by\n",
    " $$ \\binom{50}{15} \\approx 2.25 \\text{ trillion}. $$\n",
    "For part (b), we can compute the probability of each forward and backward step via the equation\n",
    "  $$ p_B + 4 p_B = 1, $$\n",
    "since we know that the probability of a forward step is four times as likely as a backward step, and the combined probability of taking either a forward or backward step is 1. Thus, the probability of each backward step is $p_B = \\frac{1}{5}$, and the probability of each forward step is $p_F = 4 p_B = \\frac{4}{5}$. Then the probability of a particular outcome with a total of 35 forward steps and 15 backward steps is\n",
    "  $$ p_F^{\\text{# of forward steps}} p_B^{\\text{# of backward steps}} = \\left(\\frac{4}{5}\\right)^{35} \\left(\\frac{1}{5}\\right)^{15} \\approx 1.33 \\times 10^{-14}.$$\n",
    "  \n",
    "For part (c), the total probability of ending at $+20$ is equal to the sum of the probabilities of each of the paths ending at $+20$. From part (a), we know that there are $\\binom{50}{15}$ such paths, and from part (b) we know that each has probability $(4/5)^{35}(1/5)^{15}$, and so the total probability is\n",
    "  $$ \\binom{50}{15} \\left(\\frac{4}{5}\\right)^{35} \\left(\\frac{1}{5}\\right)^{15} \\approx 0.03. $$\n",
    "Thus, there is roughly a 3 percent chance of this random walk ending at $+20$ after $50$ steps."
   ]
  },
  {
   "cell_type": "markdown",
   "metadata": {},
   "source": [
    "#### Problem 3\n",
    "Consider a random walk where the first step is equally-likely to be forward as backward, but subsequent steps prefer to go in the opposite direction as the preceding step by a factor of two. For example, if the first step was forward, the odds of the next step being backward are 2/3. But, if the first step was forward and second step was backward, then the odds of the third step being forward are 2/3. If the random walk is allowed to continue for **three steps**:\n",
    "\n",
    "(a) **[5 pts]** List the possible final locations.\n",
    "\n",
    "(b) **[10 pts]** Compute the likelihoods of these locations.\n",
    "\n",
    "(c) **[5 pts]** Compute the expected location.\n",
    "\n",
    "(d) **[10 pts]** Compute the variance and Mean Absolute Deviation.\n",
    "\n",
    "(e) **[5 pts]** Compute the Interquartile Range."
   ]
  },
  {
   "cell_type": "markdown",
   "metadata": {},
   "source": [
    "The different possible random walks and their probabilities are:\n",
    "\n",
    "* FFF ends at 3 and has likelihood $(1/2)(1/3)(1/3)=1/18.$\n",
    "* FFB ends at 1 and has likelihood $(1/2)(1/3)(2/3)=2/18.$\n",
    "* FBF ends at 1 and has likelihood $(1/2)(2/3)(2/3)=4/18.$\n",
    "* FBB ends at -1 and has likelihood $(1/2)(2/3)(1/3)=2/18.$\n",
    "* BFF ends at 1 and has likelihood $(1/2)(2/3)(1/3)=2/18.$\n",
    "* BFB ends at -1 and has likelihood $(1/2)(2/3)(2/3)=4/18.$\n",
    "* BBF ends at -1 and has likelihood $(1/2)(1/3)(2/3)=2/18.$\n",
    "* BBB ends at -3 and has likelihood $(1/2)(1/3)(1/3)=1/18.$\n",
    "\n",
    "Thus, the answer to (a) is the set of locations $(-3,-1,1,3)$, and their likelihoods, for part (b), are respectively\n",
    "\n",
    "* 3 has likelihood $1/18$,\n",
    "* 1 has likelihood $2/18 + 4/18 + 2/18 = 4/9$,\n",
    "* -1 has likelihood $2/18 + 4/18 + 2/18 = 4/9$, and\n",
    "* -3 has likelihood $1/18$.\n",
    "\n",
    "For part (c), the expected final location is then\n",
    "  $$ E[W_3] = \\frac{1}{18}*(-3) + \\frac{4}{9}*(-1) + \\frac{4}{9}*1 + \\frac{1}{18}*3 = 0. $$\n",
    "For part (d), the variance is then\n",
    "  $$ \\text{Var}[W_3] = E[(W_3-E[W_3])^2] = E[W_3^2] = \\frac{1}{18}*(-3)^2 + \\frac{4}{9}*(-1)^2 + \\frac{4}{9}*(1)^2 + \\frac{1}{18}*(3)^2 = \\frac{17}{9}, $$\n",
    "while the Mean Absolute Deviation is\n",
    "  $$ \\text{MAD}[W_3] = E[|W_3 - E[W_3]|] = E[|W_3|] = \\frac{1}{18}*|-3| + \\frac{4}{9}*|-1| + \\frac{4}{9}*1 + \\frac{1}{18}*3 = \\frac{11}{9}. $$\n",
    "For part (e), the Interquartile Range is the difference between the upper and lower-quartiles, where the upper quartile is an ending point of the random walk which is less than or equal to the random result 25 percent of the time and greater than or equal to the result 75 percent of the time (and vice versa for the lower quartile). Since these values will respectively be 1 and -1 for this random walk (according to part (b)), the Interquartile range is 1 - (-1) = 2. **(Note: Since this interpretation of the Interquartile Range was not explicitly discussed in class, all students will receive credit for part (e).)**"
   ]
  }
 ],
 "metadata": {
  "kernelspec": {
   "display_name": "Python 2",
   "language": "python",
   "name": "python2"
  },
  "language_info": {
   "codemirror_mode": {
    "name": "ipython",
    "version": 2
   },
   "file_extension": ".py",
   "mimetype": "text/x-python",
   "name": "python",
   "nbconvert_exporter": "python",
   "pygments_lexer": "ipython2",
   "version": "2.7.9"
  }
 },
 "nbformat": 4,
 "nbformat_minor": 0
}
